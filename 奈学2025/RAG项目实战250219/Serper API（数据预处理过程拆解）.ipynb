{
 "cells": [
  {
   "cell_type": "markdown",
   "id": "2d3a63fc-3bf5-449a-9e07-ba2edf831d70",
   "metadata": {},
   "source": [
    "# <center>使用SerperAPI做实时联网检索"
   ]
  },
  {
   "cell_type": "markdown",
   "id": "1af35b07-51eb-4124-b7a2-4bb23468d6e3",
   "metadata": {},
   "source": [
    "&emsp;&emsp;基于大模型的问答系统做联网实时检索是一个比较先进的应用场景。在这种场景中，系统不仅利用预先训练的知识，还能实时访问互联网或特定的数据库来检索信息，以回答用户的问题。这种方式可以极大地扩展问答系统的应用范围和准确性。\n",
    "\n",
    "&emsp;&emsp;一般来说，这种实时检索问答系统包括以下几个关键组件：\n",
    "\n",
    "1. **用户查询解析**：解析用户的问题，理解其意图和关键信息。\n",
    "2. **实时检索**：根据解析得到的关键词或查询意图，系统会实时从互联网或指定的数据库中检索相关信息。\n",
    "3. **信息整合与回答生成**：将检索到的信息与大模型的预训练知识结合，生成准确且信息丰富的答案。\n",
    "\n",
    "&emsp;&emsp;这种系统通常需要强大的后端支持，包括网络数据的实时访问、数据处理和安全措施，以及高效的信息检索和自然语言处理算法。而**要做联网检索问答的链路，需要借助一个可供实时搜索的外部API。**"
   ]
  },
  {
   "cell_type": "markdown",
   "id": "221003b4-8594-46df-9f25-76cbebb69625",
   "metadata": {},
   "source": [
    "&emsp;&emsp;这里我们推荐Serper，该服务是一个高性能的 Google 搜索 API，提供快速且成本效益高的方式访问 Google 搜索结果。在目前的应用落地产品中广泛被用于增强聊天机器人、进行搜索引擎优化（SEO）分析和简化金融科技项目等多种场景。该API具备：\n",
    "- 执行实时搜索\n",
    "- 自定义查询位置\n",
    "- 快速访问 Google 的搜索引擎结果——通常在1-2秒内\n",
    "\n",
    "&emsp;&emsp;以上特性使其特别适用于需要立即检索最新网络数据的应用。"
   ]
  },
  {
   "cell_type": "markdown",
   "id": "3f7cc442-a1ed-4bc6-a751-aaecde5a47e1",
   "metadata": {},
   "source": [
    "# 1. 注册Serper账户"
   ]
  },
  {
   "cell_type": "markdown",
   "id": "a18f70e7-9406-4380-a82e-4e0ba764d377",
   "metadata": {},
   "source": [
    "&emsp;&emsp;SerperAPI官方地址：https://serper.dev/ 。进入后先进行注册："
   ]
  },
  {
   "cell_type": "markdown",
   "id": "be33793a-135c-45d5-abfb-6641cda5a9f3",
   "metadata": {},
   "source": [
    "<div align=center><img src=\"https://muyu001.oss-cn-beijing.aliyuncs.com/img/image-20240704095802473.png\" width=80%></div>"
   ]
  },
  {
   "cell_type": "markdown",
   "id": "73d759d6-ac92-4f9e-a649-f0d038b1cc70",
   "metadata": {},
   "source": [
    "&emsp;&emsp;登入账户后，在如下位置获取有效的API Key："
   ]
  },
  {
   "cell_type": "markdown",
   "id": "2c6336b0-5bf7-4a04-86c5-046d0eeb5170",
   "metadata": {},
   "source": [
    "<div align=center><img src=\"https://muyu001.oss-cn-beijing.aliyuncs.com/img/image-20240704095955954.png\" width=80%></div>"
   ]
  },
  {
   "cell_type": "markdown",
   "id": "59a8c16b-74a8-4c9b-8837-9f56db7c6c20",
   "metadata": {},
   "source": [
    "&emsp;&emsp;新用户注册会免费赠送2500条免费请求，即可通过该API Key 查询2500次 Google Search 服务。"
   ]
  },
  {
   "cell_type": "markdown",
   "id": "960cbb61-ac85-480a-b0aa-e48f8f5602e5",
   "metadata": {},
   "source": [
    "<div align=center><img src=\"https://muyu001.oss-cn-beijing.aliyuncs.com/img/image-20240704095925517.png\" width=80%></div>"
   ]
  },
  {
   "cell_type": "markdown",
   "id": "919f1ed3-8569-4e7f-b019-06cf1934a876",
   "metadata": {},
   "source": [
    "&emsp;&emsp;获取到API Key后，我们可以使用 Python 的 requests 库来调用 Serper API 进行连通性测试，如下是示例代码："
   ]
  },
  {
   "cell_type": "code",
   "execution_count": 1,
   "id": "a7e2c2e5-02a2-4e4e-a041-18ee59e70f5e",
   "metadata": {
    "collapsed": true,
    "jupyter": {
     "outputs_hidden": true
    },
    "tags": []
   },
   "outputs": [
    {
     "name": "stdout",
     "output_type": "stream",
     "text": [
      "Looking in indexes: http://mirrors.aliyun.com/pypi/simple\n",
      "Requirement already satisfied: requests in /root/miniconda3/lib/python3.8/site-packages (2.28.2)\n",
      "Requirement already satisfied: certifi>=2017.4.17 in /root/miniconda3/lib/python3.8/site-packages (from requests) (2021.5.30)\n",
      "Requirement already satisfied: urllib3<1.27,>=1.21.1 in /root/miniconda3/lib/python3.8/site-packages (from requests) (1.26.6)\n",
      "Requirement already satisfied: idna<4,>=2.5 in /root/miniconda3/lib/python3.8/site-packages (from requests) (2.10)\n",
      "Requirement already satisfied: charset-normalizer<4,>=2 in /root/miniconda3/lib/python3.8/site-packages (from requests) (3.1.0)\n",
      "\u001b[33mWARNING: Running pip as the 'root' user can result in broken permissions and conflicting behaviour with the system package manager. It is recommended to use a virtual environment instead: https://pip.pypa.io/warnings/venv\u001b[0m\n"
     ]
    }
   ],
   "source": [
    " ! pip install requests"
   ]
  },
  {
   "cell_type": "code",
   "execution_count": 1,
   "id": "9ac28546-7213-41c3-99ce-da9955c634bf",
   "metadata": {
    "tags": []
   },
   "outputs": [
    {
     "name": "stdout",
     "output_type": "stream",
     "text": [
      "{'searchParameters': {'q': '2024赛季NBA的总冠军是哪支球队？', 'type': 'search', 'num': 3, 'engine': 'google'}, 'answerBox': {'title': '2023–24 NBA season / Champion', 'answer': 'Boston Celtics'}, 'knowledgeGraph': {'title': '2023–24 NBA season (2023–24 NBA赛季)', 'imageUrl': 'https://encrypted-tbn0.gstatic.com/images?q=tbn:ANd9GcSw9rjb_2TbaCDxztDgrnL8hUnOETN7q68qE8v9ZT029-vRHdbbd7m-nOs&s=0', 'description': 'The 2023–24 NBA season was the 78th season of the National Basketball Association. The regular season began on October 24, 2023, and ended on April 14, 2024.', 'descriptionSource': 'Wikipedia', 'descriptionLink': 'https://en.wikipedia.org/wiki/2023%E2%80%9324_NBA_season', 'attributes': {'Start date': 'October 24, 2023', 'Champion': 'Boston Celtics', 'Location': 'United States and Canada', 'Eastern runners-up': 'Indiana Pacers', 'Finals MVP': 'Jaylen Brown (Boston)', 'League': 'National Basketball Association', 'Number of games': '82'}}, 'organic': [{'title': '2024年NBA总决赛- 维基百科，自由的百科全书', 'link': 'https://zh.wikipedia.org/zh-hans/2024%E5%B9%B4NBA%E7%B8%BD%E6%B1%BA%E8%B3%BD', 'snippet': '2024年NBA总决赛（英语：2024 NBA Finals）是2023–24 NBA赛季的冠军系列赛，将由2024年6月6日至6月17日进行，由东部第一种子波士顿凯尔特人对战西部第五种子达拉斯独行侠， ...', 'position': 1}, {'title': '2024年NBA季后赛- 维基百科', 'link': 'https://zh.wikipedia.org/zh-hans/2024%E5%B9%B4NBA%E5%AD%A3%E5%BE%8C%E8%B3%BD', 'snippet': '赛季, 2023–24 ; 冠军, 波士顿凯尔特人 (18次总冠军) ; 失利球队, 达拉斯独行侠队 (2次进入决赛).', 'position': 2}, {'title': '2024年NBA总冠军是哪支球队? - 搜狐', 'link': 'https://www.sohu.com/a/745482265_121124692', 'snippet': '2023-24赛季打了差不多一些比赛，东西部以争冠为目标的球队无非就是绿军、雄鹿、76人、热火；掘金、勇士、太阳、湖人、快船，或许还可以加上独行侠。 掘金： ...', 'date': 'Dec 20, 2023', 'position': 3}], 'relatedSearches': [{'query': 'nba总决赛2024回放'}, {'query': '2024 nba总决赛时间'}, {'query': 'nba新赛季2024-2025'}, {'query': 'nba季后赛2024赛程'}, {'query': 'nba新赛季2025'}, {'query': 'nba总冠军'}, {'query': '2024年nba季后赛直播'}, {'query': 'nba季后赛赛程图'}], 'credits': 1}\n"
     ]
    }
   ],
   "source": [
    "# requests 库用于发起网络请求\n",
    "import requests\n",
    "import json\n",
    "\n",
    "params = {\n",
    "    'api_key': 'xxxx',  # 验证请求的 API 密钥, 请替换成自己的\n",
    "    'q': '2024赛季NBA的总冠军是哪支球队？',    # 查询参数，表示要搜索的问题。\n",
    "    'num': 3          # 这个参数指定了返回结果的数量，这里设置为3，意味着 API 将返回三个相关的搜索结果。         \n",
    "}\n",
    "\n",
    "\n",
    "# 使用 requests.get() 方法发起一个 GET 请求到 Serper API 的 endpoint。这个请求包含了上述设置的参数。\n",
    "api_result = requests.get('https://google.serper.dev/search', params)\n",
    "\n",
    "search_data = api_result.json()\n",
    "\n",
    "print(search_data)"
   ]
  },
  {
   "cell_type": "markdown",
   "id": "e96e78a8-588a-4872-bf5b-eda0a6238780",
   "metadata": {},
   "source": [
    "&emsp;&emsp;如果能够正常接收到Serper API 返回的数据，则说明调用成功，可以继续进行接下来的代码实践。"
   ]
  },
  {
   "cell_type": "markdown",
   "id": "dcd75c5a-72a9-4efd-80eb-65cd7737d796",
   "metadata": {},
   "source": [
    "&emsp;&emsp;这里我们可以借助pprint 格式化输出。pprint 是 Python 的一个库，它的全称是 \"Pretty Printer\"。这个库提供了一个函数 pprint()，可以将 Python 对象以一种格式化和易于阅读的方式打印出来。使用 pprint 打印数据结构，尤其是在处理嵌套结构或包含多个字段的大型数据时，可以极大地提高可读性。"
   ]
  },
  {
   "cell_type": "code",
   "execution_count": 2,
   "id": "27c3cce9-0e79-4a69-99a1-f0c06d677946",
   "metadata": {
    "tags": []
   },
   "outputs": [
    {
     "name": "stdout",
     "output_type": "stream",
     "text": [
      "{ 'answerBox': {'answer': 'Boston Celtics', 'title': '2023–24 NBA season / Champion'},\n",
      "  'credits': 1,\n",
      "  'knowledgeGraph': { 'attributes': { 'Champion': 'Boston Celtics',\n",
      "                                      'Eastern runners-up': 'Indiana Pacers',\n",
      "                                      'Finals MVP': 'Jaylen Brown (Boston)',\n",
      "                                      'League': 'National Basketball Association',\n",
      "                                      'Location': 'United States and Canada',\n",
      "                                      'Number of games': '82',\n",
      "                                      'Start date': 'October 24, 2023'},\n",
      "                      'description': 'The 2023–24 NBA season was the 78th season of the National '\n",
      "                                     'Basketball Association. The regular season began on October '\n",
      "                                     '24, 2023, and ended on April 14, 2024.',\n",
      "                      'descriptionLink': 'https://en.wikipedia.org/wiki/2023%E2%80%9324_NBA_season',\n",
      "                      'descriptionSource': 'Wikipedia',\n",
      "                      'imageUrl': 'https://encrypted-tbn0.gstatic.com/images?q=tbn:ANd9GcSw9rjb_2TbaCDxztDgrnL8hUnOETN7q68qE8v9ZT029-vRHdbbd7m-nOs&s=0',\n",
      "                      'title': '2023–24 NBA season (2023–24 NBA赛季)'},\n",
      "  'organic': [ { 'link': 'https://zh.wikipedia.org/zh-hans/2024%E5%B9%B4NBA%E7%B8%BD%E6%B1%BA%E8%B3%BD',\n",
      "                 'position': 1,\n",
      "                 'snippet': '2024年NBA总决赛（英语：2024 NBA Finals）是2023–24 '\n",
      "                            'NBA赛季的冠军系列赛，将由2024年6月6日至6月17日进行，由东部第一种子波士顿凯尔特人对战西部第五种子达拉斯独行侠， ...',\n",
      "                 'title': '2024年NBA总决赛- 维基百科，自由的百科全书'},\n",
      "               { 'link': 'https://zh.wikipedia.org/zh-hans/2024%E5%B9%B4NBA%E5%AD%A3%E5%BE%8C%E8%B3%BD',\n",
      "                 'position': 2,\n",
      "                 'snippet': '赛季, 2023–24 ; 冠军, 波士顿凯尔特人 (18次总冠军) ; 失利球队, 达拉斯独行侠队 (2次进入决赛).',\n",
      "                 'title': '2024年NBA季后赛- 维基百科'},\n",
      "               { 'date': 'Dec 20, 2023',\n",
      "                 'link': 'https://www.sohu.com/a/745482265_121124692',\n",
      "                 'position': 3,\n",
      "                 'snippet': '2023-24赛季打了差不多一些比赛，东西部以争冠为目标的球队无非就是绿军、雄鹿、76人、热火；掘金、勇士、太阳、湖人、快船，或许还可以加上独行侠。 '\n",
      "                            '掘金： ...',\n",
      "                 'title': '2024年NBA总冠军是哪支球队? - 搜狐'}],\n",
      "  'relatedSearches': [ {'query': 'nba总决赛2024回放'},\n",
      "                       {'query': '2024 nba总决赛时间'},\n",
      "                       {'query': 'nba新赛季2024-2025'},\n",
      "                       {'query': 'nba季后赛2024赛程'},\n",
      "                       {'query': 'nba新赛季2025'},\n",
      "                       {'query': 'nba总冠军'},\n",
      "                       {'query': '2024年nba季后赛直播'},\n",
      "                       {'query': 'nba季后赛赛程图'}],\n",
      "  'searchParameters': {'engine': 'google', 'num': 3, 'q': '2024赛季NBA的总冠军是哪支球队？', 'type': 'search'}}\n"
     ]
    }
   ],
   "source": [
    "# 导入pprint函数\n",
    "from pprint import pprint  \n",
    "\n",
    "# 设置缩进为2，宽度为100字符\n",
    "pprint(search_data, indent=2, width=100)  "
   ]
  },
  {
   "cell_type": "markdown",
   "id": "6ad23406-f194-445a-89c1-bbe34758001a",
   "metadata": {},
   "source": [
    "&emsp;&emsp;我们要从上述返回的JSON 数据中提取 \"organic\" 键对应的值，其内容代表了搜索引擎返回的自然（非广告）搜索结果。"
   ]
  },
  {
   "cell_type": "code",
   "execution_count": 3,
   "id": "340022b7-ac41-4771-8e77-e7fc6b04b9be",
   "metadata": {
    "tags": []
   },
   "outputs": [],
   "source": [
    "items = search_data.get(\"organic\", [])"
   ]
  },
  {
   "cell_type": "code",
   "execution_count": 4,
   "id": "1514c59d-f5c1-4b0b-828b-6fc78ae81d97",
   "metadata": {
    "tags": []
   },
   "outputs": [
    {
     "data": {
      "text/plain": [
       "[{'title': '2024年NBA总决赛- 维基百科，自由的百科全书',\n",
       "  'link': 'https://zh.wikipedia.org/zh-hans/2024%E5%B9%B4NBA%E7%B8%BD%E6%B1%BA%E8%B3%BD',\n",
       "  'snippet': '2024年NBA总决赛（英语：2024 NBA Finals）是2023–24 NBA赛季的冠军系列赛，将由2024年6月6日至6月17日进行，由东部第一种子波士顿凯尔特人对战西部第五种子达拉斯独行侠， ...',\n",
       "  'position': 1},\n",
       " {'title': '2024年NBA季后赛- 维基百科',\n",
       "  'link': 'https://zh.wikipedia.org/zh-hans/2024%E5%B9%B4NBA%E5%AD%A3%E5%BE%8C%E8%B3%BD',\n",
       "  'snippet': '赛季, 2023–24 ; 冠军, 波士顿凯尔特人 (18次总冠军) ; 失利球队, 达拉斯独行侠队 (2次进入决赛).',\n",
       "  'position': 2},\n",
       " {'title': '2024年NBA总冠军是哪支球队? - 搜狐',\n",
       "  'link': 'https://www.sohu.com/a/745482265_121124692',\n",
       "  'snippet': '2023-24赛季打了差不多一些比赛，东西部以争冠为目标的球队无非就是绿军、雄鹿、76人、热火；掘金、勇士、太阳、湖人、快船，或许还可以加上独行侠。 掘金： ...',\n",
       "  'date': 'Dec 20, 2023',\n",
       "  'position': 3}]"
      ]
     },
     "execution_count": 4,
     "metadata": {},
     "output_type": "execute_result"
    }
   ],
   "source": [
    "items"
   ]
  },
  {
   "cell_type": "markdown",
   "id": "d7bfd945-ee55-445e-8e40-8333412f1de4",
   "metadata": {},
   "source": [
    "&emsp;&emsp;接下来，我们需要进行进一步处理，增加两个新的属性：一个是用于唯一标识每个搜索结果的 UUID，另一个是初始化搜索结果的得分。其中：\n",
    "1. 使用 hashlib.md5() 生成基于搜索结果链接的 MD5 哈希值。这里，对每个结果的 link 字段进行编码并哈希处理，用于生成一个唯一的标识符（UUID）。MD5 哈希用于确保每个搜索结果都有一个独一无二的标识码。\n",
    "2. 给每个搜索结果添加一个 \"score\" 键，并初始化其值为 0.00。这个得分用于后续的评分算法，目的是在进入RAG过程前做进一步的筛选。"
   ]
  },
  {
   "cell_type": "code",
   "execution_count": 5,
   "id": "e10f1679-a8d6-4cf4-b1c8-5a8eb2543f61",
   "metadata": {
    "tags": []
   },
   "outputs": [],
   "source": [
    "import hashlib\n",
    "\n",
    "def md5(data: str):\n",
    "    _md5 = hashlib.md5()\n",
    "    _md5.update(data.encode(\"utf-8\"))\n",
    "    _hash = _md5.hexdigest()\n",
    "\n",
    "    return _hash"
   ]
  },
  {
   "cell_type": "code",
   "execution_count": 6,
   "id": "237b08db-6d35-488f-b930-1aabd8d6adbe",
   "metadata": {
    "tags": []
   },
   "outputs": [],
   "source": [
    "results = []\n",
    "\n",
    "for item in items:\n",
    "    # 为每个搜索结果生成 UUID（MD5 哈希）\n",
    "    item[\"uuid\"] = hashlib.md5(item[\"link\"].encode()).hexdigest()\n",
    "    # 初始化搜索结果的得分\n",
    "    item[\"score\"] = 0.00\n",
    "    results.append(item)"
   ]
  },
  {
   "cell_type": "code",
   "execution_count": 7,
   "id": "e3e47261-2efb-4b13-99b0-af03819a2890",
   "metadata": {
    "tags": []
   },
   "outputs": [
    {
     "data": {
      "text/plain": [
       "[{'title': '2024年NBA总决赛- 维基百科，自由的百科全书',\n",
       "  'link': 'https://zh.wikipedia.org/zh-hans/2024%E5%B9%B4NBA%E7%B8%BD%E6%B1%BA%E8%B3%BD',\n",
       "  'snippet': '2024年NBA总决赛（英语：2024 NBA Finals）是2023–24 NBA赛季的冠军系列赛，将由2024年6月6日至6月17日进行，由东部第一种子波士顿凯尔特人对战西部第五种子达拉斯独行侠， ...',\n",
       "  'position': 1,\n",
       "  'uuid': '07ec36227ed79525b4c7d82434e8a3e6',\n",
       "  'score': 0.0},\n",
       " {'title': '2024年NBA季后赛- 维基百科',\n",
       "  'link': 'https://zh.wikipedia.org/zh-hans/2024%E5%B9%B4NBA%E5%AD%A3%E5%BE%8C%E8%B3%BD',\n",
       "  'snippet': '赛季, 2023–24 ; 冠军, 波士顿凯尔特人 (18次总冠军) ; 失利球队, 达拉斯独行侠队 (2次进入决赛).',\n",
       "  'position': 2,\n",
       "  'uuid': '6b138b6ae7861f7cdc5ed6f98e42f9ba',\n",
       "  'score': 0.0},\n",
       " {'title': '2024年NBA总冠军是哪支球队? - 搜狐',\n",
       "  'link': 'https://www.sohu.com/a/745482265_121124692',\n",
       "  'snippet': '2023-24赛季打了差不多一些比赛，东西部以争冠为目标的球队无非就是绿军、雄鹿、76人、热火；掘金、勇士、太阳、湖人、快船，或许还可以加上独行侠。 掘金： ...',\n",
       "  'date': 'Dec 20, 2023',\n",
       "  'position': 3,\n",
       "  'uuid': 'a7f003569458780cec0816a8cbd330ec',\n",
       "  'score': 0.0}]"
      ]
     },
     "execution_count": 7,
     "metadata": {},
     "output_type": "execute_result"
    }
   ],
   "source": [
    "results"
   ]
  },
  {
   "cell_type": "markdown",
   "id": "6dd77d24-b487-48e2-b0cc-a7c44583a467",
   "metadata": {},
   "source": [
    "&emsp;&emsp;进一步转换成 Document 对象，并存储在一个列表中，包含了一个文档的内容及其元数据。"
   ]
  },
  {
   "cell_type": "code",
   "execution_count": 8,
   "id": "04963bcb-9813-471e-8f73-005d1982092f",
   "metadata": {
    "tags": []
   },
   "outputs": [],
   "source": [
    "import langchain\n",
    "from langchain.docstore.document import Document\n",
    "\n",
    "\n",
    "documents = []\n",
    "\n",
    "for result in results:\n",
    "    \n",
    "    if \"uuid\" in result:\n",
    "        uuid = result[\"uuid\"]\n",
    "    else:\n",
    "        uuid = md5(result[\"link\"])\n",
    "    \n",
    "    text = result[\"snippet\"]\n",
    "    \n",
    "    document = Document(\n",
    "        page_content=text,\n",
    "        metadata={\n",
    "            \"uuid\": uuid,\n",
    "            \"title\": result[\"title\"],\n",
    "            \"snippet\": result[\"snippet\"],\n",
    "            \"link\": result[\"link\"],\n",
    "        },\n",
    "    )\n",
    "\n",
    "    documents.append(document)"
   ]
  },
  {
   "cell_type": "code",
   "execution_count": 9,
   "id": "666b6983-9507-4f8b-b3df-8da790b0d6f6",
   "metadata": {
    "scrolled": true,
    "tags": []
   },
   "outputs": [
    {
     "data": {
      "text/plain": [
       "[Document(metadata={'uuid': '07ec36227ed79525b4c7d82434e8a3e6', 'title': '2024年NBA总决赛- 维基百科，自由的百科全书', 'snippet': '2024年NBA总决赛（英语：2024 NBA Finals）是2023–24 NBA赛季的冠军系列赛，将由2024年6月6日至6月17日进行，由东部第一种子波士顿凯尔特人对战西部第五种子达拉斯独行侠， ...', 'link': 'https://zh.wikipedia.org/zh-hans/2024%E5%B9%B4NBA%E7%B8%BD%E6%B1%BA%E8%B3%BD'}, page_content='2024年NBA总决赛（英语：2024 NBA Finals）是2023–24 NBA赛季的冠军系列赛，将由2024年6月6日至6月17日进行，由东部第一种子波士顿凯尔特人对战西部第五种子达拉斯独行侠， ...'),\n",
       " Document(metadata={'uuid': '6b138b6ae7861f7cdc5ed6f98e42f9ba', 'title': '2024年NBA季后赛- 维基百科', 'snippet': '赛季, 2023–24 ; 冠军, 波士顿凯尔特人 (18次总冠军) ; 失利球队, 达拉斯独行侠队 (2次进入决赛).', 'link': 'https://zh.wikipedia.org/zh-hans/2024%E5%B9%B4NBA%E5%AD%A3%E5%BE%8C%E8%B3%BD'}, page_content='赛季, 2023–24 ; 冠军, 波士顿凯尔特人 (18次总冠军) ; 失利球队, 达拉斯独行侠队 (2次进入决赛).'),\n",
       " Document(metadata={'uuid': 'a7f003569458780cec0816a8cbd330ec', 'title': '2024年NBA总冠军是哪支球队? - 搜狐', 'snippet': '2023-24赛季打了差不多一些比赛，东西部以争冠为目标的球队无非就是绿军、雄鹿、76人、热火；掘金、勇士、太阳、湖人、快船，或许还可以加上独行侠。 掘金： ...', 'link': 'https://www.sohu.com/a/745482265_121124692'}, page_content='2023-24赛季打了差不多一些比赛，东西部以争冠为目标的球队无非就是绿军、雄鹿、76人、热火；掘金、勇士、太阳、湖人、快船，或许还可以加上独行侠。 掘金： ...')]"
      ]
     },
     "execution_count": 9,
     "metadata": {},
     "output_type": "execute_result"
    }
   ],
   "source": [
    "documents"
   ]
  },
  {
   "cell_type": "markdown",
   "id": "0888f59d-954e-466f-903d-695b396588ed",
   "metadata": {},
   "source": [
    "&emsp;&emsp;在信息检索和问答系统中，用户期待快速且准确的回答。所以我们在拿到检索到的网页后，要先进一步预筛选。具体来说：\n",
    "1. 计算相似度：我们需要通过某种相似度计算方法，去衡量检索到的网页和用户实际提出的query是不是相关的。\n",
    "2. 排序：根据计算得到的相似度分数，对所有文档进行排序，得分最高的文档被认为与查询最相关。\n",
    "3. 选择：选取得分最高的一定数量的文档进行深入处理。具体数量可以根据系统需求和性能考虑进行调整。"
   ]
  },
  {
   "cell_type": "markdown",
   "id": "9a06ca13-b6b5-401b-932c-65b8be23f87c",
   "metadata": {},
   "source": [
    "&emsp;&emsp;这一步，一个比较直接的方法是用 NormalizedLevenshtein 来计算每个文档内容（page_content）与用户查询的相似度。这个值反映了每个文档与查询的匹配程度。"
   ]
  },
  {
   "cell_type": "markdown",
   "id": "66cf823c-fa05-42b9-b364-67ebc9628fc9",
   "metadata": {},
   "source": [
    "> strsim：https://pypi.org/project/strsim/"
   ]
  },
  {
   "cell_type": "code",
   "execution_count": 13,
   "id": "453ad701-395e-4611-a4c5-56b0c65f4e97",
   "metadata": {
    "scrolled": true,
    "tags": []
   },
   "outputs": [
    {
     "name": "stdout",
     "output_type": "stream",
     "text": [
      "Looking in indexes: http://mirrors.aliyun.com/pypi/simple\n",
      "Collecting strsimpy\n",
      "  Downloading http://mirrors.aliyun.com/pypi/packages/fc/90/bd55a4b18f4b75a76e32f444975d2c869d692eb23897d116d47122f88d1a/strsimpy-0.2.1-py3-none-any.whl (45 kB)\n",
      "\u001b[K     |████████████████████████████████| 45 kB 1.3 MB/s eta 0:00:01\n",
      "\u001b[?25hInstalling collected packages: strsimpy\n",
      "Successfully installed strsimpy-0.2.1\n",
      "\u001b[33mWARNING: Running pip as the 'root' user can result in broken permissions and conflicting behaviour with the system package manager. It is recommended to use a virtual environment instead: https://pip.pypa.io/warnings/venv\u001b[0m\n"
     ]
    }
   ],
   "source": [
    " ! pip install strsimpy"
   ]
  },
  {
   "cell_type": "markdown",
   "id": "98afd7bc-356b-4339-b605-d41a70c2cd92",
   "metadata": {},
   "source": [
    "&emsp;&emsp;对于每个检索到的网页，使用 normalizedLevenshtein.similarity() 方法计算query与网页摘要 (x.page_content) 的相似度。"
   ]
  },
  {
   "cell_type": "code",
   "execution_count": 10,
   "id": "551c610f-db38-4e22-87db-2c6556f38c57",
   "metadata": {
    "tags": []
   },
   "outputs": [],
   "source": [
    "from strsimpy.normalized_levenshtein import NormalizedLevenshtein\n",
    "\n",
    "normal = NormalizedLevenshtein()\n",
    "\n",
    "for x in documents:\n",
    "    #对于每个文档，使用 normalizedLevenshtein.similarity() 方法计算查询与文档内容 (x.page_content) 的相似度。\n",
    "    x.metadata[\"score\"] = normal.similarity(\"这几天，保罗乔治加盟了哪一支NBA球队？\", x.page_content)\n",
    "documents.sort(key=lambda x: x.metadata[\"score\"], reverse=True)"
   ]
  },
  {
   "cell_type": "code",
   "execution_count": 15,
   "id": "9c42ec61-b1e6-47bb-a2a2-efbba0c3bf44",
   "metadata": {
    "scrolled": true,
    "tags": []
   },
   "outputs": [
    {
     "data": {
      "text/plain": [
       "[Document(metadata={'uuid': 'a7f003569458780cec0816a8cbd330ec', 'title': '2024年NBA总冠军是哪支球队? - 搜狐', 'snippet': '2023-24赛季打了差不多一些比赛，东西部以争冠为目标的球队无非就是绿军、雄鹿、76人、热火；掘金、勇士、太阳、湖人、快船，或许还可以加上独行侠。 掘金： ...', 'link': 'https://www.sohu.com/a/745482265_121124692', 'score': 0.04878048780487809}, page_content='2023-24赛季打了差不多一些比赛，东西部以争冠为目标的球队无非就是绿军、雄鹿、76人、热火；掘金、勇士、太阳、湖人、快船，或许还可以加上独行侠。 掘金： ...'),\n",
       " Document(metadata={'uuid': '6b138b6ae7861f7cdc5ed6f98e42f9ba', 'title': '2024年NBA季后赛- 维基百科', 'snippet': '赛季, 2023–24 ; 冠军, 波士顿凯尔特人 (18次总冠军) ; 失利球队, 达拉斯独行侠队 (2次进入决赛).', 'link': 'https://zh.wikipedia.org/zh-hans/2024%E5%B9%B4NBA%E5%AD%A3%E5%BE%8C%E8%B3%BD', 'score': 0.033333333333333326}, page_content='赛季, 2023–24 ; 冠军, 波士顿凯尔特人 (18次总冠军) ; 失利球队, 达拉斯独行侠队 (2次进入决赛).'),\n",
       " Document(metadata={'uuid': '07ec36227ed79525b4c7d82434e8a3e6', 'title': '2024年NBA总决赛- 维基百科，自由的百科全书', 'snippet': '2024年NBA总决赛（英语：2024 NBA Finals）是2023–24 NBA赛季的冠军系列赛，将由2024年6月6日至6月17日进行，由东部第一种子波士顿凯尔特人对战西部第五种子达拉斯独行侠， ...', 'link': 'https://zh.wikipedia.org/zh-hans/2024%E5%B9%B4NBA%E7%B8%BD%E6%B1%BA%E8%B3%BD', 'score': 0.02857142857142858}, page_content='2024年NBA总决赛（英语：2024 NBA Finals）是2023–24 NBA赛季的冠军系列赛，将由2024年6月6日至6月17日进行，由东部第一种子波士顿凯尔特人对战西部第五种子达拉斯独行侠， ...')]"
      ]
     },
     "execution_count": 15,
     "metadata": {},
     "output_type": "execute_result"
    }
   ],
   "source": [
    "documents"
   ]
  },
  {
   "cell_type": "markdown",
   "id": "133e89fa-09a5-4c76-ba6f-dc29408c3719",
   "metadata": {},
   "source": [
    "&emsp;&emsp;标准化后的距离值（Score）介于 0（完全不相似）和 1（完全相同）之间。"
   ]
  },
  {
   "cell_type": "code",
   "execution_count": 11,
   "id": "da5403ca-4fd1-4234-8713-eb0d79331926",
   "metadata": {
    "tags": []
   },
   "outputs": [],
   "source": [
    "documents_docs = documents[:3]"
   ]
  },
  {
   "cell_type": "code",
   "execution_count": 12,
   "id": "90c07623-5417-43ca-9b13-b14605ece9b0",
   "metadata": {
    "tags": []
   },
   "outputs": [
    {
     "data": {
      "text/plain": [
       "[Document(metadata={'uuid': 'a7f003569458780cec0816a8cbd330ec', 'title': '2024年NBA总冠军是哪支球队? - 搜狐', 'snippet': '2023-24赛季打了差不多一些比赛，东西部以争冠为目标的球队无非就是绿军、雄鹿、76人、热火；掘金、勇士、太阳、湖人、快船，或许还可以加上独行侠。 掘金： ...', 'link': 'https://www.sohu.com/a/745482265_121124692', 'score': 0.04878048780487809}, page_content='2023-24赛季打了差不多一些比赛，东西部以争冠为目标的球队无非就是绿军、雄鹿、76人、热火；掘金、勇士、太阳、湖人、快船，或许还可以加上独行侠。 掘金： ...'),\n",
       " Document(metadata={'uuid': '6b138b6ae7861f7cdc5ed6f98e42f9ba', 'title': '2024年NBA季后赛- 维基百科', 'snippet': '赛季, 2023–24 ; 冠军, 波士顿凯尔特人 (18次总冠军) ; 失利球队, 达拉斯独行侠队 (2次进入决赛).', 'link': 'https://zh.wikipedia.org/zh-hans/2024%E5%B9%B4NBA%E5%AD%A3%E5%BE%8C%E8%B3%BD', 'score': 0.033333333333333326}, page_content='赛季, 2023–24 ; 冠军, 波士顿凯尔特人 (18次总冠军) ; 失利球队, 达拉斯独行侠队 (2次进入决赛).'),\n",
       " Document(metadata={'uuid': '07ec36227ed79525b4c7d82434e8a3e6', 'title': '2024年NBA总决赛- 维基百科，自由的百科全书', 'snippet': '2024年NBA总决赛（英语：2024 NBA Finals）是2023–24 NBA赛季的冠军系列赛，将由2024年6月6日至6月17日进行，由东部第一种子波士顿凯尔特人对战西部第五种子达拉斯独行侠， ...', 'link': 'https://zh.wikipedia.org/zh-hans/2024%E5%B9%B4NBA%E7%B8%BD%E6%B1%BA%E8%B3%BD', 'score': 0.02857142857142858}, page_content='2024年NBA总决赛（英语：2024 NBA Finals）是2023–24 NBA赛季的冠军系列赛，将由2024年6月6日至6月17日进行，由东部第一种子波士顿凯尔特人对战西部第五种子达拉斯独行侠， ...')]"
      ]
     },
     "execution_count": 12,
     "metadata": {},
     "output_type": "execute_result"
    }
   ],
   "source": [
    "documents_docs"
   ]
  },
  {
   "cell_type": "code",
   "execution_count": 18,
   "id": "a0a9a7a7-96cf-4b7d-994f-f81a8de365e2",
   "metadata": {
    "scrolled": true,
    "tags": []
   },
   "outputs": [],
   "source": [
    "documents_docs.sort(key=lambda x: x.metadata[\"score\"], reverse=True)"
   ]
  },
  {
   "cell_type": "code",
   "execution_count": 13,
   "id": "ef43f8af-c252-412a-b58a-47dc930979e9",
   "metadata": {
    "scrolled": true,
    "tags": []
   },
   "outputs": [
    {
     "data": {
      "text/plain": [
       "[Document(metadata={'uuid': 'a7f003569458780cec0816a8cbd330ec', 'title': '2024年NBA总冠军是哪支球队? - 搜狐', 'snippet': '2023-24赛季打了差不多一些比赛，东西部以争冠为目标的球队无非就是绿军、雄鹿、76人、热火；掘金、勇士、太阳、湖人、快船，或许还可以加上独行侠。 掘金： ...', 'link': 'https://www.sohu.com/a/745482265_121124692', 'score': 0.04878048780487809}, page_content='2023-24赛季打了差不多一些比赛，东西部以争冠为目标的球队无非就是绿军、雄鹿、76人、热火；掘金、勇士、太阳、湖人、快船，或许还可以加上独行侠。 掘金： ...'),\n",
       " Document(metadata={'uuid': '6b138b6ae7861f7cdc5ed6f98e42f9ba', 'title': '2024年NBA季后赛- 维基百科', 'snippet': '赛季, 2023–24 ; 冠军, 波士顿凯尔特人 (18次总冠军) ; 失利球队, 达拉斯独行侠队 (2次进入决赛).', 'link': 'https://zh.wikipedia.org/zh-hans/2024%E5%B9%B4NBA%E5%AD%A3%E5%BE%8C%E8%B3%BD', 'score': 0.033333333333333326}, page_content='赛季, 2023–24 ; 冠军, 波士顿凯尔特人 (18次总冠军) ; 失利球队, 达拉斯独行侠队 (2次进入决赛).'),\n",
       " Document(metadata={'uuid': '07ec36227ed79525b4c7d82434e8a3e6', 'title': '2024年NBA总决赛- 维基百科，自由的百科全书', 'snippet': '2024年NBA总决赛（英语：2024 NBA Finals）是2023–24 NBA赛季的冠军系列赛，将由2024年6月6日至6月17日进行，由东部第一种子波士顿凯尔特人对战西部第五种子达拉斯独行侠， ...', 'link': 'https://zh.wikipedia.org/zh-hans/2024%E5%B9%B4NBA%E7%B8%BD%E6%B1%BA%E8%B3%BD', 'score': 0.02857142857142858}, page_content='2024年NBA总决赛（英语：2024 NBA Finals）是2023–24 NBA赛季的冠军系列赛，将由2024年6月6日至6月17日进行，由东部第一种子波士顿凯尔特人对战西部第五种子达拉斯独行侠， ...')]"
      ]
     },
     "execution_count": 13,
     "metadata": {},
     "output_type": "execute_result"
    }
   ],
   "source": [
    "documents_docs"
   ]
  },
  {
   "cell_type": "markdown",
   "id": "e0abfd47-ca1c-4298-a43d-a84d23cd23ed",
   "metadata": {},
   "source": [
    "&emsp;&emsp;然后，我们可以根据 score 的分数决定要对Top N 篇文档进行提取页面主体信息-切分chunks-存入向量数据-检索与query最相关的chunks等一系列后续数据处理工作。那么首先要做的就是：提取URL列表，用于获取页面内容。"
   ]
  },
  {
   "cell_type": "code",
   "execution_count": 20,
   "id": "8ce4d1b1-5f86-48d4-890d-9a29b944bae2",
   "metadata": {
    "tags": []
   },
   "outputs": [
    {
     "name": "stdout",
     "output_type": "stream",
     "text": [
      "Looking in indexes: http://mirrors.aliyun.com/pypi/simple\n",
      "Collecting html2text\n",
      "  Downloading http://mirrors.aliyun.com/pypi/packages/1a/43/e1d53588561e533212117750ee79ad0ba02a41f52a08c1df3396bd466c05/html2text-2024.2.26.tar.gz (56 kB)\n",
      "\u001b[K     |████████████████████████████████| 56 kB 5.0 MB/s eta 0:00:011\n",
      "\u001b[?25hBuilding wheels for collected packages: html2text\n",
      "  Building wheel for html2text (setup.py) ... \u001b[?25ldone\n",
      "\u001b[?25h  Created wheel for html2text: filename=html2text-2024.2.26-py3-none-any.whl size=33082 sha256=a425670c3cb3fc808cfd4d53594ac41abff64250f31a640611c26be53038cfe3\n",
      "  Stored in directory: /root/.cache/pip/wheels/2b/1f/cd/70be944dac0faada16aceb7e45a7f9d983baf78189d45905de\n",
      "Successfully built html2text\n",
      "Installing collected packages: html2text\n",
      "Successfully installed html2text-2024.2.26\n",
      "\u001b[33mWARNING: Running pip as the 'root' user can result in broken permissions and conflicting behaviour with the system package manager. It is recommended to use a virtual environment instead: https://pip.pypa.io/warnings/venv\u001b[0m\n"
     ]
    }
   ],
   "source": [
    " ! pip install html2text"
   ]
  },
  {
   "cell_type": "markdown",
   "id": "4250597a-0b26-48a0-9f21-e50f9a6f7fb4",
   "metadata": {},
   "source": [
    "&emsp;&emsp;第一步，我们需要提取出每个网页信息的metadata字典里的link键对应的值。"
   ]
  },
  {
   "cell_type": "code",
   "execution_count": 14,
   "id": "50dee2dd-37ca-481c-9f5a-3575dc583beb",
   "metadata": {
    "scrolled": true,
    "tags": []
   },
   "outputs": [
    {
     "data": {
      "text/plain": [
       "['https://www.sohu.com/a/745482265_121124692',\n",
       " 'https://zh.wikipedia.org/zh-hans/2024%E5%B9%B4NBA%E5%AD%A3%E5%BE%8C%E8%B3%BD',\n",
       " 'https://zh.wikipedia.org/zh-hans/2024%E5%B9%B4NBA%E7%B8%BD%E6%B1%BA%E8%B3%BD']"
      ]
     },
     "execution_count": 14,
     "metadata": {},
     "output_type": "execute_result"
    }
   ],
   "source": [
    "url_list = [document.metadata['link'] for document in documents_docs if 'link' in document.metadata]\n",
    "\n",
    "url_list"
   ]
  },
  {
   "cell_type": "markdown",
   "id": "63d4b05e-f5d8-4f37-8ac6-c2aa382ca88d",
   "metadata": {},
   "source": [
    "&emsp;&emsp;第二步，遍历url_list列表中的每一个URL，使用requests.get(url)函数向每个URL发送HTTP GET请求。"
   ]
  },
  {
   "cell_type": "code",
   "execution_count": 15,
   "id": "d97e133b-75f8-45d0-83c7-ca60a33e7ce6",
   "metadata": {
    "tags": []
   },
   "outputs": [],
   "source": [
    "## 学术资源加速\n",
    "import subprocess\n",
    "import os\n",
    "\n",
    "result = subprocess.run('bash -c \"source /etc/network_turbo && env | grep proxy\"', shell=True, capture_output=True, text=True)\n",
    "output = result.stdout\n",
    "for line in output.splitlines():\n",
    "    if '=' in line:\n",
    "        var, value = line.split('=', 1)\n",
    "        os.environ[var] = value"
   ]
  },
  {
   "cell_type": "code",
   "execution_count": 16,
   "id": "328253ed-9e28-4a09-82d9-c3142de98a69",
   "metadata": {
    "scrolled": true,
    "tags": []
   },
   "outputs": [],
   "source": [
    "html_reponse = []\n",
    "for url in url_list:\n",
    "    html = requests.get(url)\n",
    "    reponse = html.text     # 获取响应的内容，即网页的HTML代码\n",
    "    html_reponse.append(reponse)"
   ]
  },
  {
   "cell_type": "markdown",
   "id": "84d40489-f3c1-4fab-9938-3c3c0fdd85e6",
   "metadata": {},
   "source": [
    "&emsp;&emsp;最终，html_reponse列表包含了从每个访问的链接返回的HTML响应。"
   ]
  },
  {
   "cell_type": "code",
   "execution_count": 17,
   "id": "a29d92b0-5fe9-4be4-a579-948b2ca3658e",
   "metadata": {
    "scrolled": true,
    "tags": []
   },
   "outputs": [
    {
     "data": {
      "text/plain": [
       "'<!DOCTYPE html>\\n    <html data-log-pv=\\'{\"mpc\":17}\\'>\\n    <head>\\n        <title>2024年NBA总冠军是哪支球队?_防守_进攻_赛季</title>\\n        <meta http-equiv=\"Cache-Control\" content=\"no-transform\" />\\n<meta http-equiv=\"Cache-Control\" content=\"no-siteapp\" />\\n<meta name=\"copyright\" content=\"Copyright © 2017 Sohu.com Inc. All Rights Reserved.\" />\\n<meta name=\"mediaid\" content=\"法海说体育\"/>\\n<meta property=\"og:type\" content=\"news\"/>\\n<meta property=\"og:image\" content=\"//p9.itc.cn/q_70/images03/20231220/be796abfc59d48959f8bc07792f1a924.jpeg\"/>\\n<meta property=\"og:url\" content=\"www.sohu.com/a/745482265_121124692\"/>\\n<meta property=\"og:release_date\" content=\"2023-12-20 08:31\"/>\\n<meta itemprop=\"dateUpdate\" content=\"2023-12-20 08:31\" />\\n<meta itemprop=\"datePublished\" content=\"2023-12-20 08:31\" />\\n<link rel=\"canonical\" href=\"https://www.sohu.com/a/745482265_121124692\"/>\\n<link rel=\"alternate\" media=\"only screen and(max-width: 640px)\" href=\"m.sohu.com/a/745482265_121124692\"/>\\n\\n<meta name=\"keywords\" content=\"独行侠,1,进攻,效率,防守,板凳,问题,湖人,赛季,NBA,快船,湖人,雄鹿,76人,联盟\" />\\n<meta name=\"description\" content=\"\\n 2023-24赛季打了差不多一些比赛，东西部以争冠为目标的球队无非就是绿军、雄鹿、76人、热火；掘金、勇士、太阳、湖人、快船，或许还可以加上独行侠。 卫冕冠军掘金的首发依然是联盟顶级，赛季至今，掘金的先发组…\" />\\n<meta property=\"og:description\" content=\"\\n 2023-24赛季打了差不多一些比赛，东西部以争冠为目标的球队无非就是绿军、雄鹿、76人、热火；掘金、勇士、太阳、湖人、快船，或许还可以加上独行侠。 卫冕冠军掘金的首发依然是联盟顶级，赛季至今，掘金的先发组…\"/>\\n<meta property=\"og:title\" content=\"2024年NBA总冠军是哪支球队?_防守_进攻_赛季\"/>\\n        <meta charset=\"utf-8\"/><meta name=\"data-spm\" content=\"smpc\"><meta name=\"renderer\" content=\"webkit\"><meta http-equiv=\"X-UA-Compatible\" content=\"IE=Edge,chrome=1\"/><meta name=\"viewport\" content=\"width=device-width,initial-scale=1,maximum-scale=1\"/><link rel=\"dns-prefetch\" href=\"//statics.itc.cn\"><link rel=\"dns-prefetch\" href=\"//g1.itc.cn\"><link rel=\"dns-prefetch\" href=\"//js.sohu.com\"><link rel=\"icon\" href=\"//statics.itc.cn/web/static/images/pic/sohu-logo/favicon.ico\" type=\"image/x-icon\"/><link rel=\"shortcut icon\" href=\"//statics.itc.cn/web/static/images/pic/sohu-logo/favicon.ico\" type=\"image/x-icon\"/><link rel=\"apple-touch-icon\" sizes=\"57x57\" href=\"//statics.itc.cn/web/static/images/pic/sohu-logo/logo-57.png\"/><link rel=\"apple-touch-icon\" sizes=\"72x72\" href=\"//statics.itc.cn/web/static/images/pic/sohu-logo/logo-72.png\"/><link rel=\"apple-touch-icon\" sizes=\"114x114\" href=\"//statics.itc.cn/web/static/images/pic/sohu-logo/logo-114.png\"/><link rel=\"apple-touch-icon\" sizes=\"144x144\" href=\"//statics.itc.cn/web/static/images/pic/sohu-logo/logo-144.png\"/><link rel=\"preload\" href=\"https://g1.itc.cn/msfe-pcarti-prod/300000000000/assets/css/main_article-1400a2.css\" as=\"style\"><link href=\"https://g1.itc.cn/msfe-pcarti-prod/300000000000/assets/css/main_article-1400a2.css\" rel=\"stylesheet\">    </head>\\n            <body class=\"article-page\" data-region=\"145\" data-spm=\"content\" data-newsid=\"745482265\">\\n        <div class=\"wrapper-box\">\\n            <header id=\"main-header\" class=\"error-head\">\\n\\t<div class=\"head-container\">\\n\\t\\t<div class=\"head-nav\" data-spm=\"nav\">\\n\\t\\t\\t<ul>\\n\\t\\t\\t    <li class=\"index\">\\n\\t\\t\\t\\t\\t<a data-clev=\"10220248\" class=\"clearfix\" target=\"_blank\" href=\"http://www.sohu.com\">\\n\\t\\t\\t\\t\\t\\t<span class=\"sohu-logo\"></span>\\n\\t\\t\\t\\t\\t</a>\\n\\t\\t\\t\\t</li>\\n\\t\\t\\t\\t\\t\\t\\t\\t\\t\\t\\t\\t\\t\\t<li class=\"nav-item\"><a target=\"_blank\" data-clev=\"10220249\" href=\"http://news.sohu.com/\">新闻</a></li>\\n\\t\\t\\t\\t\\t\\t\\t\\t\\t\\t\\t\\t\\t\\t\\t\\t\\t\\t\\t<li class=\"nav-item\"><a target=\"_blank\" data-clev=\"10220250\" href=\"http://sports.sohu.com/\">体育</a></li>\\n\\t\\t\\t\\t\\t\\t\\t\\t\\t\\t\\t\\t\\t\\t\\t\\t\\t\\t\\t<li class=\"nav-item\"><a target=\"_blank\" data-clev=\"10220251\" href=\"http://auto.sohu.com/\">汽车</a></li>\\n\\t\\t\\t\\t\\t\\t\\t\\t\\t\\t\\t\\t\\t\\t\\t\\t\\t\\t\\t<li class=\"nav-item\"><a target=\"_blank\" data-clev=\"10220252\" href=\"http://www.focus.cn/\">房产</a></li>\\n\\t\\t\\t\\t\\t\\t\\t\\t\\t\\t\\t\\t\\t\\t\\t\\t\\t\\t\\t<li class=\"nav-item\"><a target=\"_blank\" data-clev=\"10220253\" href=\"http://travel.sohu.com/\">旅游</a></li>\\n\\t\\t\\t\\t\\t\\t\\t\\t\\t\\t\\t\\t\\t\\t\\t\\t\\t\\t\\t<li class=\"nav-item\"><a target=\"_blank\" data-clev=\"10220254\" href=\"http://learning.sohu.com/\">教育</a></li>\\n\\t\\t\\t\\t\\t\\t\\t\\t\\t\\t\\t\\t\\t\\t\\t\\t\\t\\t\\t<li class=\"nav-item\"><a target=\"_blank\" data-clev=\"10220255\" href=\"http://fashion.sohu.com/\">时尚</a></li>\\n\\t\\t\\t\\t\\t\\t\\t\\t\\t\\t\\t\\t\\t\\t\\t\\t\\t\\t\\t<li class=\"nav-item\"><a target=\"_blank\" data-clev=\"10220256\" href=\"http://it.sohu.com/\">科技</a></li>\\n\\t\\t\\t\\t\\t\\t\\t\\t\\t\\t\\t\\t\\t\\t\\t\\t\\t\\t\\t<li class=\"nav-item\"><a target=\"_blank\" data-clev=\"10220257\" href=\"http://business.sohu.com/\">财经</a></li>\\n\\t\\t\\t\\t\\t\\t\\t\\t\\t\\t\\t\\t\\t\\t\\t\\t\\t\\t\\t<li class=\"nav-item\"><a target=\"_blank\" data-clev=\"10220258\" href=\"http://yule.sohu.com/\">娱乐</a></li>\\n\\t\\t\\t\\t\\t\\t\\t\\t\\t\\t\\t\\t\\t\\t\\t\\t\\t\\t\\t\\t\\t\\t\\t\\t\\t\\t\\t\\t\\t\\t\\t\\t\\t\\t\\t\\t\\t\\t\\t\\t\\t\\t\\t\\t\\t\\t\\t\\t\\t\\t\\t\\t\\t\\t\\t\\t\\t\\t\\t\\t\\t\\t\\t\\t\\t\\t\\t\\t\\t\\t\\t\\t\\t\\t\\t\\t\\t\\t\\t\\t\\t\\t\\t\\t\\t\\t\\t\\t\\t\\t\\t\\t\\t\\t\\t\\t\\t\\t\\t\\t\\t\\t\\t\\t\\t\\t\\t\\t\\t\\t\\t\\t\\t\\t\\t\\t\\t\\t\\t\\t\\t<li class=\"nav-item more-nav\"><a class=\"more-tag\" href=\"javascript:void(0)\">更多<em class=\"cor\"></em></a>\\n\\t\\t\\t\\t\\t<div class=\"more-nav-box\">\\n\\t\\t\\t\\t\\t\\t\\t\\t\\t\\t\\t\\t\\t\\t\\t\\t\\t\\t\\t\\t\\t\\t\\t\\t\\t\\t\\t\\t\\t\\t\\t\\t\\t\\t\\t\\t\\t\\t\\t\\t\\t\\t\\t\\t\\t\\t\\t\\t\\t\\t\\t\\t\\t\\t\\t\\t\\t\\t\\t\\t\\t\\t\\t\\t\\t\\t\\t\\t\\t\\t\\t\\t\\t\\t\\t\\t\\t\\t\\t\\t\\t\\t\\t\\t\\t\\t\\t\\t\\t\\t\\t\\t\\t\\t\\t\\t\\t\\t\\t\\t\\t\\t\\t\\t\\t\\t\\t\\t\\t\\t\\t\\t\\t\\t\\t\\t\\t\\t\\t\\t\\t\\t\\t\\t\\t\\t\\t\\t\\t\\t\\t\\t\\t\\t\\t\\t\\t\\t\\t\\t\\t\\t\\t\\t\\t\\t\\t\\t\\t<a href=\"http://baobao.sohu.com/\">母婴</a>\\n\\t\\t\\t\\t\\t\\t\\t\\t\\t\\t\\t\\t\\t\\t\\t\\t\\t\\t\\t\\t\\t\\t\\t\\t\\t\\t<a href=\"https://healthnews.sohu.com/\">健康</a>\\n\\t\\t\\t\\t\\t\\t\\t\\t\\t\\t\\t\\t\\t\\t\\t\\t\\t\\t\\t\\t\\t\\t\\t\\t\\t\\t<a href=\"http://history.sohu.com/\">历史</a>\\n\\t\\t\\t\\t\\t\\t\\t\\t\\t\\t\\t\\t\\t\\t\\t\\t\\t\\t\\t\\t\\t\\t\\t\\t\\t\\t<a href=\"http://mil.sohu.com/\">军事</a>\\n\\t\\t\\t\\t\\t\\t\\t\\t\\t\\t\\t\\t\\t\\t\\t\\t\\t\\t\\t\\t\\t\\t\\t\\t\\t\\t<a href=\"http://chihe.sohu.com/\">美食</a>\\n\\t\\t\\t\\t\\t\\t\\t\\t\\t\\t\\t\\t\\t\\t\\t\\t\\t\\t\\t\\t\\t\\t\\t\\t\\t\\t<a href=\"http://cul.sohu.com/\">文化</a>\\n\\t\\t\\t\\t\\t\\t\\t\\t\\t\\t\\t\\t\\t\\t\\t\\t\\t\\t\\t\\t\\t\\t\\t\\t\\t\\t<a href=\"http://astro.sohu.com/\">星座</a>\\n\\t\\t\\t\\t\\t\\t\\t\\t\\t\\t\\t\\t\\t\\t\\t\\t\\t\\t\\t\\t\\t\\t\\t\\t\\t\\t<a href=\"https://www.sohu.com/xchannel/TURBd01EQXhPVGt5\">专题</a>\\n\\t\\t\\t\\t\\t\\t\\t\\t\\t\\t\\t\\t\\t\\t\\t\\t\\t\\t\\t\\t\\t\\t\\t\\t\\t\\t<a href=\"http://game.sohu.com/\">游戏</a>\\n\\t\\t\\t\\t\\t\\t\\t\\t\\t\\t\\t\\t\\t\\t\\t\\t\\t\\t\\t\\t\\t\\t\\t\\t\\t\\t<a href=\"http://fun.sohu.com/\">搞笑</a>\\n\\t\\t\\t\\t\\t\\t\\t\\t\\t\\t\\t\\t\\t\\t\\t\\t\\t\\t\\t\\t\\t\\t\\t\\t\\t\\t<a href=\"http://acg.sohu.com/\">动漫</a>\\n\\t\\t\\t\\t\\t\\t\\t\\t\\t\\t\\t\\t\\t\\t\\t\\t\\t\\t\\t\\t\\t\\t\\t\\t\\t\\t<a href=\"http://pets.sohu.com/\">宠物</a>\\n\\t\\t\\t\\t\\t\\t\\t\\t\\t\\t\\t\\t\\t\\t\\t\\t\\t\\t</div>\\n\\t\\t\\t\\t</li>\\n\\t\\t\\t</ul>\\n\\t\\t</div>\\n\\t\\t<div class=\"right head-rihgt\">\\n\\t\\t\\t<div id=\"no-barrier\">\\n                <a href=\"javascript:void(0)\" id=\"wza\" clickHide=\"false\">无障碍</a>\\n                <span class=\"divider\"></span>\\n                <a href=\"javascript:void(0)\" id=\"ghb\" clickHide=\"false\">关怀版</a>\\n            </div>\\n\\t\\t\\t<div id=\"head-login\"><login-btn></login-btn></div>\\n\\t\\t</div>\\n\\t</div>\\n\\n</header>            <div class=\"location-without-nav\"></div>\\n            <div class=\"area clearfix\" id=\"article-container\">\\n                <div class=\"column left\">\\n\\t                    <div class=\"user-info\" id=\"user-info\" data-spm=\"author\">\\n            <div class=\"user-pic\">\\n            <!-- fromWhere为10是马甲号作者不可点击进入个人页面 -->\\n                            <a href=\"https://mp.sohu.com/profile?xpt=NjQzM2ZjODctMDdhZi00NmY1LTkyYmYtYWRiMjBhZGNlMzk1&_f=index_pagemp_1\" target=\"_blank\">\\n                    <img data-src=\"http://p2.itc.cn/q_70/images03/20210518/8d7da754d0744302a12a374c8b3028dd.jpeg\" alt=\"\">\\n                </a>\\n                    </div>\\n        <h4>\\n                    <a href=\"https://mp.sohu.com/profile?xpt=NjQzM2ZjODctMDdhZi00NmY1LTkyYmYtYWRiMjBhZGNlMzk1&_f=index_pagemp_1\" target=\"_blank\">法海说体育</a>\\n                    </h4>\\n    <!-- 积分 -->\\n            <div class=\"fox-wrap\" id=\"fox-integration\">\\n            <div class=\"fox-head-wrap\" data-grade=\"tag\">\\n                                                                    <span class=\"fox-logo\\n                                                fox-golden\\n                        \">\\n                    </span>\\n                            </div>\\n            <div class=\"fox-hover-wrap\" data-grade=\"grade\">\\n                <div class=\"fox-each-wrap\\n                                        fox-each-golden\\n                    \">\\n                    <p class=\"fox-content\">\\n                        由内容质量、互动评论、分享传播等多维度分值决定，勋章级别越高(\\n                        <span class=\"fox-grade\"></span>\\n                        )，代表其在平台内的综合表现越好。\\n                    </p>\\n                </div>\\n            </div>\\n        </div>\\n    \\n                    <dl class=\"user-num\">\\n        <dd><span class=\"value\" data-value=\"36815\" data-role=\"info-article-num\"><em class=\"num\"></em></span>文章</dd>\\n        <dd><span class=\"value\" data-value=\"\" data-role=\"info-read-num\"><em class=\"num\"></em></span>总阅读</dd>\\n    </dl>\\n\\n    <!-- 企业认证 -->\\n            <ul class=\"company\">\\n                    </ul>\\n    \\n    <!-- 非马甲号作者 -->\\n            <div class=\"user-more\">\\n            <a href=\"https://mp.sohu.com/profile?xpt=NjQzM2ZjODctMDdhZi00NmY1LTkyYmYtYWRiMjBhZGNlMzk1&_f=index_pagemp_2\" target=\"_blank\">查看TA的文章&gt;</a>\\n        </div>\\n    </div>        \\t\\t<div class=\"article-do\" id=\"article-do\" data-spm=\"share\">\\n\\t\\t<div class=\"article-done\">\\n    <div class=\"title\">评论</div>\\n    <dl>\\n        <dd class=\"comment-do\" id=\"leftComment\">\\n            <a href=\"javascript:void(0)\" data-spm-acode=\"8089\">\\n                <em class=\"comment-icon icon\"></em>\\n                <span class=\"num\" data-role=\"comment-count\"></span>\\n            </a>\\n        </dd>\\n    </dl>\\n</div>\\n\\t\\t<div id=\"share\">\\n\\t\\t\\t<share/>\\n\\t\\t</div>\\n\\t</div>\\n</div>\\n                <div class=\"left main\">\\n                    <div data-spm=\"content\">\\n                        <div class=\"text\">\\n                            <div class=\"text-title\">\\n    <h1>\\n                    2024年NBA总冠军是哪支球队?                <span class=\"article-tag\">\\n                 </span>\\n    </h1>\\n            <div class=\"article-info\">\\n        <span class=\"time\" id=\"news-time\" data-val=\"1703032274000\">\\n                        2023-12-20 08:31        </span>\\n                                <div class=\"area\"><span>发布于：</span><span>山西省</span></div>\\n    </div>\\n</div>\\n<article class=\"article\" id=\"mp-editor\">\\n    <!-- 政务处理 -->\\n                      <p><iframe width=\"500\" height=\"300\" scrolling=\"no\" frameborder=\"0\" border=\"0\" allowfullscreen=\"true\" src=\"//tv.sohu.com/s/sohuplayer/iplay.html?bid=503132758&amp;vars=%5B%5B%22showRecommend%22%2C0%5D%5D&amp;disablePlaylist=true&amp;mute=1&amp;autoplay=false\"></iframe></p>\\n<p><span style=\"font-size: 16px;\"><strong>关于篮球的一切  关注才是热爱</strong></span></p>\\n<p><span style=\"font-size: 16px;\"></span><span style=\"font-size: 16px;\">纸面实力是纸面实力，最终能否夺冠，还有很多因素。</span></p>\\n<p><span style=\"font-size: 16px;\">2023-24赛季打了差不多一些比赛，</span><span style=\"font-size: 16px;\">东西部以争冠为目标的球队无非就是绿军、雄鹿、76人、热火；</span><span style=\"font-size: 16px;\">掘金、勇士、太阳、湖人、快船，或许还可以加上独行侠。</span></p>\\n<p style=\"text-align: center;\"><img data-src=\"b64Pq9zySn93kgty0uAqZ8mJ5ULT+qz1crB9Zo+mUNMVKChc1pUsENc/2JIhiDTEqtauY8EtjTvbUlpoxO4BkFmSO5QiVHTiMEr79g0YBKI=\" /></p>\\n<p style=\"text-align: center;\"><img data-src=\"8MY9RGaCWaBsd6kkgG/pScmJ5ULT+qz1crB9Zo+mUNOcFIfSldeyqPqlCDbmzIB5awvAQsO+x8Y+iimYYGpFE91i1pQR4yjirDz697vOk7s=\" /></p>\\n<p><span><span></span><strong>掘金：板凳薄弱</strong></span></p>\\n<p><img height=\"766\" width=\"1360\" data-src=\"RWugdBGFq+R/Aq+QnLPFVdlNBhw4FHpJZ4etv5fAg9ZAPyvhBzqwWq3XvuHDfFApegFh0X6hSPq3ZNyiaN11ap3svd7Vk57mufjxj+a03TE=\" /></p>\\n<p><span style=\"font-size: 16px;\">卫冕冠军掘金的首发依然是联盟顶级，赛季至今，掘金的先发组合百回合净胜分联盟第三，这其中，还要考虑到</span><span style=\"font-size: 16px;\">穆雷</span><span style=\"font-size: 16px;\">因伤缺阵3场。不过，掘金的板凳席确实不怎么样，休赛期走了布鲁斯-布朗、</span><span style=\"font-size: 16px;\">杰夫-格林</span><span style=\"font-size: 16px;\">，如今只能靠布劳恩、</span><span style=\"font-size: 16px;\">沃特森</span><span style=\"font-size: 16px;\">等人撑起。赛季至今，掘金的板凳百回合净胜分联盟第21。</span></p>\\n<p><span style=\"font-size: 16px;\"><strong>太阳：巨头尚未齐，控卫悬缺</strong></span><span></span></p>\\n<p><img height=\"630\" width=\"948\" data-src=\"2spwynf2q8FQc6HpYWnAe9lNBhw4FHpJZ4etv5fAg9Z/s2jsq8iLMChvom87NC/3pg0ImxrS/2yofXwqHOk+d9cX6yFDSP9n1qzvDgKk6xQ=\" /></p>\\n<p><span style=\"font-size: 16px;\">休赛期组成三巨头的太阳队，至今三巨头没能合体出战过。布克打了2场又歇了，比尔刚复出打了3场，只能靠35岁的杜兰特一场出战36.7分钟，伤病隐患也会很大。首发有三巨头进攻实力足够，但轮换阵容没有一个控卫，一旦遭遇压迫式防守，进攻就很挣扎，只能看布克回归后能否调整。</span></p>\\n<p><span style=\"font-size: 16px;\"><strong>勇士：先发与板凳倒置</strong></span><span></span></p>\\n<p><img height=\"1074\" width=\"1360\" data-src=\"ipZZQ8s8QDiEfIqFxHZ2MNlNBhw4FHpJZ4etv5fAg9bB5TjrjxVDXZ3B+LL6Ew8RxIClQmm1lmj5tZb74AEdvElPCUBQNfKNpOldIurqaEo=\" /></p>\\n<p><span style=\"font-size: 16px;\">上赛季，勇士的先发是联盟前三，本赛季先发百回合净胜分仅列联盟第19。克莱铁，</span><span style=\"font-size: 16px;\">维金斯</span><span style=\"font-size: 16px;\">进攻端和防守端都很低迷，勇士如今进攻全靠库里抡。赛季至今，除了库里，竟只有</span><span style=\"font-size: 16px;\">萨里奇</span><span style=\"font-size: 16px;\">曾单场得分20+过。勇士的板凳倒是在保罗的带领下打出不错的表现，百回合净胜分联盟第三。</span></p>\\n<p><span style=\"font-size: 16px;\"><strong>湖人：三分铁如故，攻防皆下</strong></span></p>\\n<p><img height=\"900\" width=\"1600\" data-src=\"V3V/5Po5OQhD1wp+LVvkp9lNBhw4FHpJZ4etv5fAg9ZR/mZeIBSFs6Er4FfkR2w3v40F6jyD/WvUAJBBa8DrjIO4hxPRNMde/TsatQgtU0w=\" /></p>\\n<p><span style=\"font-size: 16px;\">原本以为上赛季赛季中期交易后，湖人的三分不再是大问题，没想到，赛季初三分铁成了湖人的BUFF。赛季至今，湖人三分命中率30.4%，联盟倒数第二。湖人的防守效率114，联盟第22，进攻效率109，联盟第23。就目前的表现来看，湖人是比上赛季下滑明显的。</span></p>\\n<p><span style=\"font-size: 16px;\"><strong>快船：一个球不够分</strong></span><span></span></p>\\n<p><img height=\"675\" width=\"1200\" data-src=\"ZqqdApMA/yaR/foHptBuz9lNBhw4FHpJZ4etv5fAg9b3xrjnJjkXU9VHus+cycf75sa/YVz65eu+1fWDmOS6e4dAPNgv4LqRNFPyFQao4hI=\" /></p>\\n<p><span style=\"font-size: 16px;\">交易得到哈登前，都说快船要起飞，结果是急刹。哈登代表快船出战4场，快船4战皆负。快船目前的问题突出在四巨头还没找到一起打球的方法，快船首发在攻防两端都存在问题，进攻端缺乏配合，一人持球其他人看。防守端也缺乏沟通，很容易漏人，而</span><span style=\"font-size: 16px;\">泰伦卢</span><span style=\"font-size: 16px;\">的防守体系要求又要求无限换防。</span></p>\\n<p><span style=\"font-size: 16px;\"><strong>独行侠：防守问题依然存在</strong></span><span></span></p>\\n<p><img height=\"1321\" width=\"2113\" data-src=\"lrZM2CeEj0WTHFVM4IzFdtlNBhw4FHpJZ4etv5fAg9bX/3pjeXx+8N4hSAbuvgmDoclBDHN+t0UNGLUYj3MeLmyTbVw3P2yszZFXtz/dDj8=\" /></p>\\n<p><span style=\"font-size: 16px;\">经历上赛季后段的失利，独行侠休赛期进行了针对性补强，如今</span><span style=\"font-size: 16px;\">东契奇</span><span style=\"font-size: 16px;\">和欧文的分工更加明确，配合也更默契。独行侠的进攻端更加无解，目前，独行侠的进攻效率是121.8，联盟第二。休赛期引进</span><span style=\"font-size: 16px;\">格威</span><span style=\"font-size: 16px;\">等人，独行侠的防守有所提升，但外线防守薄弱一直存在，目前防守效率是115.6，联盟第24。</span></p>\\n<p><span style=\"font-size: 16px;\"><strong>凯尔特人：豪华先发与薄弱板凳</strong></span><span></span></p>\\n<p><img height=\"1280\" width=\"2288\" data-src=\"V3V/5Po5OQhD1wp+LVvkp9lNBhw4FHpJZ4etv5fAg9b6+ErfocvkBoZ3y9yrOyNodbGopSjd5Ub3ZlEJGnLuf694emFvLrInxwIZBZPs9W0=\" /></p>\\n<p><span style=\"font-size: 16px;\">绿军目前看起来很强大，目前，进攻效率联盟第四，防守效率联盟第三，净效率联盟第一；场均篮板联盟第一。可能最大的问题是板凳席比较薄弱，赛季至今绿军板凳席场均得分24.6分，联盟倒数第二。绿军先发联盟顶级，但板凳席确实没几个能得分的。</span></p>\\n<p><span style=\"font-size: 16px;\"><strong>稍晚比赛的临场分析方向会在球霸老K发布方案，供大家参考！</strong></span></p>\\n<p><span style=\"font-size: 16px;\"><span style=\"font-size: 16px;\"><strong>关注老朋友文章中获取今日剩下的比赛，</strong></span><span style=\"font-size: 16px;\"><strong>没有九成的把握绝不轻易出手，一旦出手了，那必须是手到擒来！</strong></span></span></p>\\n<p style=\"text-align: center;\"><span style=\"font-size: 16px;\"><strong>关注球霸扣1获取</strong></span></p>\\n<p><span style=\"font-size: 16px;\"><strong>76人：核心季后赛的发挥</strong></span><span></span></p>\\n<p><img height=\"1280\" width=\"1920\" data-src=\"QdNDsuFXQTGMjFQB08PVr9lNBhw4FHpJZ4etv5fAg9Y/q82bVU/teMJZ8Q2JKb6KeptxEbBwFF7hc4k1+cF+IwL60UVYkzMIdCqdBGBtOrc=\" /></p>\\n<p><span style=\"font-size: 16px;\">哈登离队，对76人的影响并没有那么大，恩比德和马克西组合依然能够带领76人在常规赛打出出色的战绩。加上新帅纳斯对球队的影响明显，76人现在的进攻打得更加流畅，转移球更多。这支球队的核心恩比德，还需要在季后赛证明自己，毕竟过去几个赛季，恩比德还没有在季后赛证明过自己。</span></p>\\n<p><span style=\"font-size: 16px;\"><strong>雄鹿：防守严重下滑</strong></span><span></span></p>\\n<p><img height=\"597\" width=\"1280\" data-src=\"ipZZQ8s8QDiEfIqFxHZ2MNlNBhw4FHpJZ4etv5fAg9Zwbb4cpT3OuDG+J3PJfF1bkUs1N4pxGsUfeOJmHpR+Uh9drA7J2c3OYzx266gL5q4=\" /></p>\\n<p><span style=\"font-size: 16px;\">休赛期，雄鹿后场先发</span><span style=\"font-size: 16px;\">霍乐迪</span><span style=\"font-size: 16px;\">和格雷森-阿伦换成了</span><span style=\"font-size: 16px;\">利拉德</span><span style=\"font-size: 16px;\">和比斯利，最直接的问题是后场防守崩了，没了霍乐迪的领防，内线防守压力也很大。赛季至今，雄鹿的防守效率116.5，联盟第25，进攻效率113，联盟第11，也只是联盟中游水平。雄鹿要争冠，首先要解决的是后场防守的问题。</span></p>\\n<p><span style=\"font-size: 16px;\"><strong>热火：进攻天赋不足</strong></span><span></span></p>\\n<p><img height=\"500\" width=\"751\" data-src=\"QdNDsuFXQTGMjFQB08PVr9lNBhw4FHpJZ4etv5fAg9bODD/LFJXHhD8ij9XcbujOPg3ryTgWBMNtcAYcB6M8sApuRuJ7ILKSXVMvc//PTtc=\" /></p>\\n<p><span style=\"font-size: 16px;\">上赛季，热火黑八打进总决赛，创造了自己的奇迹。但这支热火，终究天赋不足，他们有出色的纪律和战术执行力，有顶级的教练，但顶层球星的天赋不足。季后赛，巴特勒和阿德巴约的硬解能力决定了热火能走多远。</span></p>\\n<p style=\"text-align: center;\"><span style=\"font-size: 16px;\"><strong>关注球霸扣1，获取3C1</strong></span></p>\\n<p style=\"text-align: center;\"><span style=\"font-size: 16px;\"><strong><span>经过多年的交流考察，可以肯定的是：</span><span>每单都是团队分析师细心专研，基本面到位，指数了解透彻的场次！不多推不乱推，没有九成信心不敢轻易出手！</span></strong></span></p>\\n<p style=\"text-align: center;\"><span style=\"font-size: 16px;\"><strong><span>库里超全的进球GIF图组合</span></strong></span></p>\\n<p style=\"text-align: center;\"><span style=\"font-size: 16px;\"><strong><span>有天赋的去打橄榄球，没天赋的才去打篮球，这句话是真的吗？</span></strong></span></p>\\n<p style=\"text-align: center;\"><span style=\"font-size: 16px;\"><strong><span>NBA的八分释球权是什么梗？</span></strong></span></p>\\n<p style=\"text-align: center;\"><span style=\"font-size: 16px;\"><strong><span>为什么感觉现在的 NBA 没有以前的精彩？</span></strong></span></p>\\n<p style=\"text-align: center;\"><span style=\"font-size: 16px;\"><strong><span>关于文班亚马 您可能不知道的十件轶事</span></strong></span></p>\\n<p style=\"text-align: center;\"><span style=\"font-size: 16px;\"><strong><span>如何评价步行者新星哈里伯顿？</span></strong></span></p>\\n<p style=\"text-align: center;\"><span style=\"font-size: 16px;\"><strong><span>如何评价詹姆斯获得首届季中锦标赛的MVP？</span></strong></span></p>\\n<p style=\"text-align: center;\"><span style=\"font-size: 16px;\"><strong><span>NBA季中锦标赛冠军的含金量如何？</span></strong></span></p>\\n<p style=\"text-align: center;\"><span style=\"font-size: 16px;\"><strong>最全合集｜关于科比的所有故事</strong></span></p>\\n<p><span style=\"font-size: 16px;\"><strong>当然也欢迎你分享本文，</strong><strong>你的支持可以鼓励我创作出更多有价值的文章供你阅读。</strong></span><a href=\"//www.sohu.com/?strategyid=00001 \" target=\"_blank\" title=\"点击进入搜狐首页\" id=\"backsohucom\" style=\"white-space: nowrap;\"><span class=\"backword\"><i class=\"backsohu\"></i>返回搜狐，查看更多</span></a></p>          <!-- 政务账号添加来源标示处理 -->\\n      <!-- 政务账号添加来源标示处理 -->\\n      <p data-role=\"editor-name\">责任编辑：<span></span></p>\\n</article>\\n<div id=\"articleTransfer\"><transfer/></div>\\n<!-- 评论禁言通知 -->\\n<div id=\"bannedNotice\"><banned-notice /></div>\\n  <div class=\"statement\">平台声明：该文观点仅代表作者本人，搜狐号系信息发布平台，搜狐仅提供信息存储空间服务。</div>    <div class=\"bottom-relate-wrap clear type-3\">\\n            <div id=\"article-like\" data-like-type=\"type-3\">\\n            <article-like/>\\n        </div>\\n        <div class=\"read-wrap\">\\n        <span class=\"read-num\">阅读 (<em data-role=\"pv\" data-val=\"$articleStat.pv\"></em>)</span>\\n    </div>\\n    <div id=\"articleReport\">\\n        <report/>\\n    </div>\\n</div>\\n\\n                            <div id=\"sohu-play-content\"></div>\\n                        </div>\\n                    </div>\\n                    <div data-spm=\"middle-banner-ad\">\\n                                            </div>\\n                                            <div id=\"articleAllsee\" style=\\'height:629px\\'><all-see-list/></div>\\n                                        <div class=\"_0u4o3bh76zbp\"></div>\\n                    <div class=\"god-article-bottom\" id=\"god_bottom_banner\" data-spm=\"ad-text-bottom\" style=\"display:block\">\\n</div>\\n<div class=\"user-god clear\" id=\"user-post\" style=\"display:none\">\\n\\n</div>                    <!-- 评论 -->\\n                    <div id=\"meComment\" style=\\'min-height: 100px;\\'>\\n                        <me-comment/>\\n                    </div>\\n                    <div id=\"commentList\">\\n                        <comment-list></comment-list>\\n                    </div>\\n                    <div id=\"discuss\"></div>\\n                    <!-- 推荐阅读 -->\\n                                        <div style=\\'min-height:1500px\\' id=\"groomRead\">\\n                        <groom-read/>\\n                    </div>\\n                                    </div>\\n                <!-- 右侧边栏 -->\\n                <div class=\"sidebar right\" id=\"right-side-bar\" data-a=\"${isBaiDuAd}\">\\n                    <right-side-bar/>\\n                </div>\\n             </div>\\n            <div id=\"float-btn\"> <float-btn/> </div>\\n            <div class=\"left-bottom-float-fullScreenSleepContainer\" style=\"display:none;\">\\n    <div class=\"left-bottom-float-fullScreenSleep\" style=\"display:none;\" data-spm=\"ad-fullScreenSleep\">\\n        <div class=\"close-tag\"></div>\\n    </div>\\n</div>\\n<div class=\"left-bottom-float\" id=\"left-bottom-god\" data-spm=\"ad-ss\">\\n</div>        </div>\\n        <script type=\"text/javascript\">\\n                        window.deployEnv = \"prod\"\\n                    </script>\\n        <script src=\"//js.sohu.com/pv.js\"></script><script src=\"https://g1.itc.cn/msfe-pcarti-prod/300000000000/assets/js/vendors-fdda32.js\"></script><script src=\"https://g1.itc.cn/msfe-pcarti-prod/300000000000/assets/js/libs-fcc41a.js\"></script><script src=\"https://g1.itc.cn/msfe-pcarti-prod/300000000000/assets/js/main_article-4a7354.js\"></script>        <script>\\ntry{\\n        window.sohu_mp.article({\\n        channel_id: \"17\",\\n        news_id: \"745482265\",\\n        cms_id: \"$mpNews.cmsId\",\\n        media_id: \"121124692\",\\n        passport: \"Xfsa2qVkwI@virtual-author.com\",\\n        weboUrl: \"https://mp.sohu.com/profile?xpt=NjQzM2ZjODctMDdhZi00NmY1LTkyYmYtYWRiMjBhZGNlMzk1\",\\n        title: \"2024年NBA总冠军是哪支球队?\",\\n        channel_url:\"//sports.sohu.com\",\\n        categoryId:\"1400\",\\n        //abData_fd用于abtest\\n        abData:\"\",\\n        // abData_discuss:\"4\", // 讨论\\n        abData_discuss:\"\", // 讨论\\n        abData_fd:\"\",\\n        abData_tw:\"\",\\n        originalId:\"736249146\",\\n        originalStatus:\"2\",\\n        isBaiDuAd: \"\",\\n        isPure: \"${pure}\",\\n        reprint: false,\\n        reprintSign: \"\",\\n        secureScore: \\'100\\',\\n        sGrade: \\'0\\',\\n        editor:\\'\\',\\n        hideAd:\\'\\',\\n        keywords: \\'[独行侠, 1, 进攻, 效率, 防守, 板凳, 问题, 湖人, 赛季, NBA, 快船, 湖人, 雄鹿, 76人, 联盟]\\',\\n        mpNewsExt:{\\n            \"modelId\":\"\"\\n        },\\n        imgsList: [\\n                                             {\\n                    \"url\" : \"https://p1.itc.cn/q_70/images03/20231220/b586d018cdaf473a96fd528f1ebc39be.png\",\\n                    \"width\" : \"288\",\\n                    \"height\" : \"382\",\\n                }\\n                                                , {\\n                    \"url\" : \"https://p5.itc.cn/q_70/images03/20231220/29485b1691cf477290f67a46889c4d7c.png\",\\n                    \"width\" : \"289\",\\n                    \"height\" : \"493\",\\n                }\\n                                                , {\\n                    \"url\" : \"//p8.itc.cn/q_70/images03/20231220/7b10e436c3c242f38a44dbee33d6c853.jpeg\",\\n                    \"width\" : \"720\",\\n                    \"height\" : \"406\",\\n                }\\n                                                , {\\n                    \"url\" : \"//p9.itc.cn/q_70/images03/20231220/be796abfc59d48959f8bc07792f1a924.jpeg\",\\n                    \"width\" : \"720\",\\n                    \"height\" : \"478\",\\n                }\\n                                                , {\\n                    \"url\" : \"//p7.itc.cn/q_70/images03/20231220/840217923fff48f7924114226f931b22.jpeg\",\\n                    \"width\" : \"720\",\\n                    \"height\" : \"569\",\\n                }\\n                                                , {\\n                    \"url\" : \"//p6.itc.cn/q_70/images03/20231220/3259d3532b83425894c6df4979d935bc.jpeg\",\\n                    \"width\" : \"720\",\\n                    \"height\" : \"405\",\\n                }\\n                                                , {\\n                    \"url\" : \"//p4.itc.cn/q_70/images03/20231220/a3915b9fb1d84a9a907ed346dd41e35f.jpeg\",\\n                    \"width\" : \"720\",\\n                    \"height\" : \"405\",\\n                }\\n                                                , {\\n                    \"url\" : \"//p5.itc.cn/q_70/images03/20231220/2cdba9c940cd4dd791c841c6ff9e4c70.jpeg\",\\n                    \"width\" : \"720\",\\n                    \"height\" : \"450\",\\n                }\\n                                                , {\\n                    \"url\" : \"//p6.itc.cn/q_70/images03/20231220/d5ebd0c606ae42fd8d5ea35de008d091.jpeg\",\\n                    \"width\" : \"720\",\\n                    \"height\" : \"403\",\\n                }\\n                                                , {\\n                    \"url\" : \"//p1.itc.cn/q_70/images03/20231220/18be1e50cfbc4de7b78f77fb183f26d3.jpeg\",\\n                    \"width\" : \"720\",\\n                    \"height\" : \"480\",\\n                }\\n                                                , {\\n                    \"url\" : \"//p7.itc.cn/q_70/images03/20231220/b716e1c089064f988486691099c17c4f.jpeg\",\\n                    \"width\" : \"720\",\\n                    \"height\" : \"336\",\\n                }\\n                                                , {\\n                    \"url\" : \"//p1.itc.cn/q_70/images03/20231220/d1ed93e4a92d4508a0e75853b0c546bb.jpeg\",\\n                    \"width\" : \"720\",\\n                    \"height\" : \"479\",\\n                }\\n                                        ],\\n    });\\n}\\ncatch(e){\\n    var html = \\'<div class=\"err-js\">\\' +\\n                \\'<span><em class=\"icon err-js-icon\"></em>JS加载错误，请重新加载。</span>\\' +\\n                \\'<a href=\"javascript:window.location.reload()\" target=\"_blank\" class=\"cached-btn\"\\' +\\n                \\'><em class=\"icon-cached\"></em>刷新</a></div>\\';\\n    $(document.body).prepend(html);\\n    console.error(\"发生错误\",e);\\n}\\n</script>\\n<script>\\n    (function () {\\n        if(window.irs_ua === false) return\\n        var ra = document.createElement(\\'script\\');\\n        ra.type = \\'text/javascript\\';\\n        ra.async = true;\\n        ra.src = \\'//statics.itc.cn/iwtReport/iwt1.0.1.js\\'; //iwt_1.0.1.js的URL位置，请客户自行托管JS文件，修改此值\\n        var s = document.getElementsByTagName(\\'script\\')[0];\\n        s.parentNode.insertBefore(ra, s);\\n    })();\\n</script>\\n<!-- 文章安全分低于等于10分不执行seo优化 -->\\n<script>\\n    (function(){\\n        var bp = document.createElement(\\'script\\');\\n        var curProtocol = window.location.protocol.split(\\':\\')[0];\\n        if (curProtocol === \\'https\\') {\\n            bp.src = \\'https://zz.bdstatic.com/linksubmit/push.js\\';        \\n        }\\n        else {\\n            bp.src = \\'http://push.zhanzhang.baidu.com/push.js\\';\\n        }\\n        var s = document.getElementsByTagName(\"script\")[0];\\n        s.parentNode.insertBefore(bp, s);\\n    })();\\n</script>\\n<!-- 百度联盟广告，多条广告如下脚本只需引入一次 -->\\n<script type=\"text/javascript\" src=\"https://cpro.baidustatic.com/cpro/ui/c.js\" async=\"async\" defer=\"defer\"></script>\\n        <!-- 头条SEO上报JS -->\\n        <script>\\n            (function(){\\n                var el = document.createElement(\"script\");\\n                el.src = \"https://lf1-cdn-tos.bytegoofy.com/goofy/ttzz/push.js?2a4809d3df819205088b399807ab2dfb6008be35d3aa4b8fc28d959eee7f7b82c112ff4abe50733e0ff1e1071a0fdc024b166ea2a296840a50a5288f35e2ca42\";\\n                el.id = \"ttzz\";\\n                var s = document.getElementsByTagName(\"script\")[0];\\n                s.parentNode.insertBefore(el, s);\\n            })(window)\\n        </script>\\n    </body>\\n</html>'"
      ]
     },
     "execution_count": 17,
     "metadata": {},
     "output_type": "execute_result"
    }
   ],
   "source": [
    "html_reponse[0]"
   ]
  },
  {
   "cell_type": "markdown",
   "id": "27384865-861b-4bce-a07a-6fb7ccb443a7",
   "metadata": {},
   "source": [
    "&emsp;&emsp;第三步，将HTML响应转换成Markdown格式，并对最终的Markdown文本进行一些额外的格式化处理"
   ]
  },
  {
   "cell_type": "code",
   "execution_count": 18,
   "id": "6fc9575e-db05-4da7-b70a-87487b1871a3",
   "metadata": {
    "tags": []
   },
   "outputs": [],
   "source": [
    "from html2text import HTML2Text\n",
    "import re\n",
    "\n",
    "markdown_reponse = []\n",
    "\n",
    "for html in html_reponse:\n",
    "    converter = HTML2Text()\n",
    "    converter.ignore_links = True    # 忽略HTML中的链接\n",
    "    converter.ignore_images = True   # 忽略HTML中的图像\n",
    "    markdown = converter.handle(html)   # 将HTML转换为Markdown格式\n",
    "    \n",
    "    # 将Markdown文本中连续的三个或更多换行符替换为两个换行符。这个步骤是为了美化文本，保持格式的整洁和一致性，避免过多的空白行。\n",
    "    markdown = re.sub(r'\\n{3,}', '\\n\\n', markdown)\n",
    "    \n",
    "    markdown_reponse.append(markdown)"
   ]
  },
  {
   "cell_type": "code",
   "execution_count": 19,
   "id": "9eb6f53f-cc08-4c73-8a4c-5124f1ba0ae4",
   "metadata": {
    "scrolled": true,
    "tags": []
   },
   "outputs": [
    {
     "data": {
      "text/plain": [
       "['  *   * 新闻\\n  * 体育\\n  * 汽车\\n  * 房产\\n  * 旅游\\n  * 教育\\n  * 时尚\\n  * 科技\\n  * 财经\\n  * 娱乐\\n  * 更多 __\\n\\n母婴 健康 历史 军事 美食 文化 星座 专题 游戏 搞笑 动漫 宠物\\n\\n无障碍 关怀版\\n\\n####  法海说体育\\n\\n由内容质量、互动评论、分享传播等多维度分值决定，勋章级别越高(  )，代表其在平台内的综合表现越好。\\n\\n    __文章\\n    __总阅读\\n\\n查看TA的文章>\\n\\n评论\\n\\n     __\\n\\n#  2024年NBA总冠军是哪支球队?\\n\\n2023-12-20 08:31\\n\\n发布于：山西省\\n\\n**关于篮球的一切 关注才是热爱**\\n\\n纸面实力是纸面实力，最终能否夺冠，还有很多因素。\\n\\n2023-24赛季打了差不多一些比赛，东西部以争冠为目标的球队无非就是绿军、雄鹿、76人、热火；掘金、勇士、太阳、湖人、快船，或许还可以加上独行侠。\\n\\n**掘金：板凳薄弱**\\n\\n卫冕冠军掘金的首发依然是联盟顶级，赛季至今，掘金的先发组合百回合净胜分联盟第三，这其中，还要考虑到穆雷因伤缺阵3场。不过，掘金的板凳席确实不怎么样，休赛期走了布鲁斯-\\n布朗、杰夫-格林，如今只能靠布劳恩、沃特森等人撑起。赛季至今，掘金的板凳百回合净胜分联盟第21。\\n\\n**太阳：巨头尚未齐，控卫悬缺**\\n\\n休赛期组成三巨头的太阳队，至今三巨头没能合体出战过。布克打了2场又歇了，比尔刚复出打了3场，只能靠35岁的杜兰特一场出战36.7分钟，伤病隐患也会很大。首发有三巨头进攻实力足够，但轮换阵容没有一个控卫，一旦遭遇压迫式防守，进攻就很挣扎，只能看布克回归后能否调整。\\n\\n**勇士：先发与板凳倒置**\\n\\n上赛季，勇士的先发是联盟前三，本赛季先发百回合净胜分仅列联盟第19。克莱铁，维金斯进攻端和防守端都很低迷，勇士如今进攻全靠库里抡。赛季至今，除了库里，竟只有萨里奇曾单场得分20+过。勇士的板凳倒是在保罗的带领下打出不错的表现，百回合净胜分联盟第三。\\n\\n**湖人：三分铁如故，攻防皆下**\\n\\n原本以为上赛季赛季中期交易后，湖人的三分不再是大问题，没想到，赛季初三分铁成了湖人的BUFF。赛季至今，湖人三分命中率30.4%，联盟倒数第二。湖人的防守效率114，联盟第22，进攻效率109，联盟第23。就目前的表现来看，湖人是比上赛季下滑明显的。\\n\\n**快船：一个球不够分**\\n\\n交易得到哈登前，都说快船要起飞，结果是急刹。哈登代表快船出战4场，快船4战皆负。快船目前的问题突出在四巨头还没找到一起打球的方法，快船首发在攻防两端都存在问题，进攻端缺乏配合，一人持球其他人看。防守端也缺乏沟通，很容易漏人，而泰伦卢的防守体系要求又要求无限换防。\\n\\n**独行侠：防守问题依然存在**\\n\\n经历上赛季后段的失利，独行侠休赛期进行了针对性补强，如今东契奇和欧文的分工更加明确，配合也更默契。独行侠的进攻端更加无解，目前，独行侠的进攻效率是121.8，联盟第二。休赛期引进格威等人，独行侠的防守有所提升，但外线防守薄弱一直存在，目前防守效率是115.6，联盟第24。\\n\\n**凯尔特人：豪华先发与薄弱板凳**\\n\\n绿军目前看起来很强大，目前，进攻效率联盟第四，防守效率联盟第三，净效率联盟第一；场均篮板联盟第一。可能最大的问题是板凳席比较薄弱，赛季至今绿军板凳席场均得分24.6分，联盟倒数第二。绿军先发联盟顶级，但板凳席确实没几个能得分的。\\n\\n**稍晚比赛的临场分析方向会在球霸老K发布方案，供大家参考！**\\n\\n**关注老朋友文章中获取今日剩下的比赛，****没有九成的把握绝不轻易出手，一旦出手了，那必须是手到擒来！**\\n\\n**关注球霸扣1获取**\\n\\n**76人：核心季后赛的发挥**\\n\\n哈登离队，对76人的影响并没有那么大，恩比德和马克西组合依然能够带领76人在常规赛打出出色的战绩。加上新帅纳斯对球队的影响明显，76人现在的进攻打得更加流畅，转移球更多。这支球队的核心恩比德，还需要在季后赛证明自己，毕竟过去几个赛季，恩比德还没有在季后赛证明过自己。\\n\\n**雄鹿：防守严重下滑**\\n\\n休赛期，雄鹿后场先发霍乐迪和格雷森-\\n阿伦换成了利拉德和比斯利，最直接的问题是后场防守崩了，没了霍乐迪的领防，内线防守压力也很大。赛季至今，雄鹿的防守效率116.5，联盟第25，进攻效率113，联盟第11，也只是联盟中游水平。雄鹿要争冠，首先要解决的是后场防守的问题。\\n\\n**热火：进攻天赋不足**\\n\\n上赛季，热火黑八打进总决赛，创造了自己的奇迹。但这支热火，终究天赋不足，他们有出色的纪律和战术执行力，有顶级的教练，但顶层球星的天赋不足。季后赛，巴特勒和阿德巴约的硬解能力决定了热火能走多远。\\n\\n**关注球霸扣1，获取3C1**\\n\\n**经过多年的交流考察，可以肯定的是： 每单都是团队分析师细心专研，基本面到位，指数了解透彻的场次！不多推不乱推，没有九成信心不敢轻易出手！**\\n\\n**库里超全的进球GIF图组合**\\n\\n**有天赋的去打橄榄球，没天赋的才去打篮球，这句话是真的吗？**\\n\\n**NBA的八分释球权是什么梗？**\\n\\n**为什么感觉现在的 NBA 没有以前的精彩？**\\n\\n**关于文班亚马 您可能不知道的十件轶事**\\n\\n**如何评价步行者新星哈里伯顿？**\\n\\n**如何评价詹姆斯获得首届季中锦标赛的MVP？**\\n\\n**NBA季中锦标赛冠军的含金量如何？**\\n\\n**最全合集｜关于科比的所有故事**\\n\\n**当然也欢迎你分享本文，****你的支持可以鼓励我创作出更多有价值的文章供你阅读。** __返回搜狐，查看更多\\n\\n责任编辑：\\n\\n平台声明：该文观点仅代表作者本人，搜狐号系信息发布平台，搜狐仅提供信息存储空间服务。\\n\\n阅读 (__)\\n\\n',\n",
       " '# ERROR\\n\\n## The requested URL could not be retrieved\\n\\n* * *\\n\\nThe following error was encountered while trying to retrieve the URL:\\nhttps://zh.wikipedia.org/*\\n\\n> **Failed to establish a secure connection to [unknown]**\\n\\nThe system returned:\\n\\n>\\n>     [No Error] (TLS code: SQUID_TLS_ERR_CONNECT+TLS_IO_ERR=5)\\n>\\n> Handshake with SSL server failed: [No Error]\\n\\nThis proxy and the remote host failed to negotiate a mutually acceptable\\nsecurity settings for handling your request. It is possible that the remote\\nhost does not support secure connections, or the proxy is not satisfied with\\nthe host security credentials.\\n\\nYour cache administrator is webmaster.\\n\\n  \\n\\n* * *\\n\\nGenerated Wed, 11 Sep 2024 08:08:00 GMT by cache.autodl.com (squid/5.2)\\n\\n',\n",
       " '# ERROR\\n\\n## The requested URL could not be retrieved\\n\\n* * *\\n\\nThe following error was encountered while trying to retrieve the URL:\\nhttps://zh.wikipedia.org/*\\n\\n> **Failed to establish a secure connection to [unknown]**\\n\\nThe system returned:\\n\\n>\\n>     [No Error] (TLS code: SQUID_TLS_ERR_CONNECT+TLS_IO_ERR=5)\\n>\\n> Handshake with SSL server failed: [No Error]\\n\\nThis proxy and the remote host failed to negotiate a mutually acceptable\\nsecurity settings for handling your request. It is possible that the remote\\nhost does not support secure connections, or the proxy is not satisfied with\\nthe host security credentials.\\n\\nYour cache administrator is webmaster.\\n\\n  \\n\\n* * *\\n\\nGenerated Wed, 11 Sep 2024 08:08:20 GMT by cache.autodl.com (squid/5.2)\\n\\n']"
      ]
     },
     "execution_count": 19,
     "metadata": {},
     "output_type": "execute_result"
    }
   ],
   "source": [
    "markdown_reponse"
   ]
  },
  {
   "cell_type": "markdown",
   "id": "966a9e6b-1757-4086-8dbe-795309176435",
   "metadata": {},
   "source": [
    "&emsp;&emsp;将两个列表（url_list 和 markdown_response）组合成一个列表，其中每个元素都是包含 URL 和其对应 Markdown 内容的元组，可以使用 Python 的 zip 函数。这样做将“拉链”这两个列表，把对应的元素配对。"
   ]
  },
  {
   "cell_type": "code",
   "execution_count": 20,
   "id": "7981baa3-3553-407b-9ced-396143a099dd",
   "metadata": {
    "tags": []
   },
   "outputs": [],
   "source": [
    "combined_list = list(zip(url_list, markdown_reponse))"
   ]
  },
  {
   "cell_type": "code",
   "execution_count": 21,
   "id": "3c4db1d4-ac4b-4c42-ac0a-e281d533a596",
   "metadata": {
    "collapsed": true,
    "jupyter": {
     "outputs_hidden": true
    },
    "scrolled": true,
    "tags": []
   },
   "outputs": [
    {
     "data": {
      "text/plain": [
       "[('https://www.sohu.com/a/745482265_121124692',\n",
       "  '  *   * 新闻\\n  * 体育\\n  * 汽车\\n  * 房产\\n  * 旅游\\n  * 教育\\n  * 时尚\\n  * 科技\\n  * 财经\\n  * 娱乐\\n  * 更多 __\\n\\n母婴 健康 历史 军事 美食 文化 星座 专题 游戏 搞笑 动漫 宠物\\n\\n无障碍 关怀版\\n\\n####  法海说体育\\n\\n由内容质量、互动评论、分享传播等多维度分值决定，勋章级别越高(  )，代表其在平台内的综合表现越好。\\n\\n    __文章\\n    __总阅读\\n\\n查看TA的文章>\\n\\n评论\\n\\n     __\\n\\n#  2024年NBA总冠军是哪支球队?\\n\\n2023-12-20 08:31\\n\\n发布于：山西省\\n\\n**关于篮球的一切 关注才是热爱**\\n\\n纸面实力是纸面实力，最终能否夺冠，还有很多因素。\\n\\n2023-24赛季打了差不多一些比赛，东西部以争冠为目标的球队无非就是绿军、雄鹿、76人、热火；掘金、勇士、太阳、湖人、快船，或许还可以加上独行侠。\\n\\n**掘金：板凳薄弱**\\n\\n卫冕冠军掘金的首发依然是联盟顶级，赛季至今，掘金的先发组合百回合净胜分联盟第三，这其中，还要考虑到穆雷因伤缺阵3场。不过，掘金的板凳席确实不怎么样，休赛期走了布鲁斯-\\n布朗、杰夫-格林，如今只能靠布劳恩、沃特森等人撑起。赛季至今，掘金的板凳百回合净胜分联盟第21。\\n\\n**太阳：巨头尚未齐，控卫悬缺**\\n\\n休赛期组成三巨头的太阳队，至今三巨头没能合体出战过。布克打了2场又歇了，比尔刚复出打了3场，只能靠35岁的杜兰特一场出战36.7分钟，伤病隐患也会很大。首发有三巨头进攻实力足够，但轮换阵容没有一个控卫，一旦遭遇压迫式防守，进攻就很挣扎，只能看布克回归后能否调整。\\n\\n**勇士：先发与板凳倒置**\\n\\n上赛季，勇士的先发是联盟前三，本赛季先发百回合净胜分仅列联盟第19。克莱铁，维金斯进攻端和防守端都很低迷，勇士如今进攻全靠库里抡。赛季至今，除了库里，竟只有萨里奇曾单场得分20+过。勇士的板凳倒是在保罗的带领下打出不错的表现，百回合净胜分联盟第三。\\n\\n**湖人：三分铁如故，攻防皆下**\\n\\n原本以为上赛季赛季中期交易后，湖人的三分不再是大问题，没想到，赛季初三分铁成了湖人的BUFF。赛季至今，湖人三分命中率30.4%，联盟倒数第二。湖人的防守效率114，联盟第22，进攻效率109，联盟第23。就目前的表现来看，湖人是比上赛季下滑明显的。\\n\\n**快船：一个球不够分**\\n\\n交易得到哈登前，都说快船要起飞，结果是急刹。哈登代表快船出战4场，快船4战皆负。快船目前的问题突出在四巨头还没找到一起打球的方法，快船首发在攻防两端都存在问题，进攻端缺乏配合，一人持球其他人看。防守端也缺乏沟通，很容易漏人，而泰伦卢的防守体系要求又要求无限换防。\\n\\n**独行侠：防守问题依然存在**\\n\\n经历上赛季后段的失利，独行侠休赛期进行了针对性补强，如今东契奇和欧文的分工更加明确，配合也更默契。独行侠的进攻端更加无解，目前，独行侠的进攻效率是121.8，联盟第二。休赛期引进格威等人，独行侠的防守有所提升，但外线防守薄弱一直存在，目前防守效率是115.6，联盟第24。\\n\\n**凯尔特人：豪华先发与薄弱板凳**\\n\\n绿军目前看起来很强大，目前，进攻效率联盟第四，防守效率联盟第三，净效率联盟第一；场均篮板联盟第一。可能最大的问题是板凳席比较薄弱，赛季至今绿军板凳席场均得分24.6分，联盟倒数第二。绿军先发联盟顶级，但板凳席确实没几个能得分的。\\n\\n**稍晚比赛的临场分析方向会在球霸老K发布方案，供大家参考！**\\n\\n**关注老朋友文章中获取今日剩下的比赛，****没有九成的把握绝不轻易出手，一旦出手了，那必须是手到擒来！**\\n\\n**关注球霸扣1获取**\\n\\n**76人：核心季后赛的发挥**\\n\\n哈登离队，对76人的影响并没有那么大，恩比德和马克西组合依然能够带领76人在常规赛打出出色的战绩。加上新帅纳斯对球队的影响明显，76人现在的进攻打得更加流畅，转移球更多。这支球队的核心恩比德，还需要在季后赛证明自己，毕竟过去几个赛季，恩比德还没有在季后赛证明过自己。\\n\\n**雄鹿：防守严重下滑**\\n\\n休赛期，雄鹿后场先发霍乐迪和格雷森-\\n阿伦换成了利拉德和比斯利，最直接的问题是后场防守崩了，没了霍乐迪的领防，内线防守压力也很大。赛季至今，雄鹿的防守效率116.5，联盟第25，进攻效率113，联盟第11，也只是联盟中游水平。雄鹿要争冠，首先要解决的是后场防守的问题。\\n\\n**热火：进攻天赋不足**\\n\\n上赛季，热火黑八打进总决赛，创造了自己的奇迹。但这支热火，终究天赋不足，他们有出色的纪律和战术执行力，有顶级的教练，但顶层球星的天赋不足。季后赛，巴特勒和阿德巴约的硬解能力决定了热火能走多远。\\n\\n**关注球霸扣1，获取3C1**\\n\\n**经过多年的交流考察，可以肯定的是： 每单都是团队分析师细心专研，基本面到位，指数了解透彻的场次！不多推不乱推，没有九成信心不敢轻易出手！**\\n\\n**库里超全的进球GIF图组合**\\n\\n**有天赋的去打橄榄球，没天赋的才去打篮球，这句话是真的吗？**\\n\\n**NBA的八分释球权是什么梗？**\\n\\n**为什么感觉现在的 NBA 没有以前的精彩？**\\n\\n**关于文班亚马 您可能不知道的十件轶事**\\n\\n**如何评价步行者新星哈里伯顿？**\\n\\n**如何评价詹姆斯获得首届季中锦标赛的MVP？**\\n\\n**NBA季中锦标赛冠军的含金量如何？**\\n\\n**最全合集｜关于科比的所有故事**\\n\\n**当然也欢迎你分享本文，****你的支持可以鼓励我创作出更多有价值的文章供你阅读。** __返回搜狐，查看更多\\n\\n责任编辑：\\n\\n平台声明：该文观点仅代表作者本人，搜狐号系信息发布平台，搜狐仅提供信息存储空间服务。\\n\\n阅读 (__)\\n\\n'),\n",
       " ('https://zh.wikipedia.org/zh-hans/2024%E5%B9%B4NBA%E5%AD%A3%E5%BE%8C%E8%B3%BD',\n",
       "  '# ERROR\\n\\n## The requested URL could not be retrieved\\n\\n* * *\\n\\nThe following error was encountered while trying to retrieve the URL:\\nhttps://zh.wikipedia.org/*\\n\\n> **Failed to establish a secure connection to [unknown]**\\n\\nThe system returned:\\n\\n>\\n>     [No Error] (TLS code: SQUID_TLS_ERR_CONNECT+TLS_IO_ERR=5)\\n>\\n> Handshake with SSL server failed: [No Error]\\n\\nThis proxy and the remote host failed to negotiate a mutually acceptable\\nsecurity settings for handling your request. It is possible that the remote\\nhost does not support secure connections, or the proxy is not satisfied with\\nthe host security credentials.\\n\\nYour cache administrator is webmaster.\\n\\n  \\n\\n* * *\\n\\nGenerated Wed, 11 Sep 2024 08:08:00 GMT by cache.autodl.com (squid/5.2)\\n\\n'),\n",
       " ('https://zh.wikipedia.org/zh-hans/2024%E5%B9%B4NBA%E7%B8%BD%E6%B1%BA%E8%B3%BD',\n",
       "  '# ERROR\\n\\n## The requested URL could not be retrieved\\n\\n* * *\\n\\nThe following error was encountered while trying to retrieve the URL:\\nhttps://zh.wikipedia.org/*\\n\\n> **Failed to establish a secure connection to [unknown]**\\n\\nThe system returned:\\n\\n>\\n>     [No Error] (TLS code: SQUID_TLS_ERR_CONNECT+TLS_IO_ERR=5)\\n>\\n> Handshake with SSL server failed: [No Error]\\n\\nThis proxy and the remote host failed to negotiate a mutually acceptable\\nsecurity settings for handling your request. It is possible that the remote\\nhost does not support secure connections, or the proxy is not satisfied with\\nthe host security credentials.\\n\\nYour cache administrator is webmaster.\\n\\n  \\n\\n* * *\\n\\nGenerated Wed, 11 Sep 2024 08:08:20 GMT by cache.autodl.com (squid/5.2)\\n\\n')]"
      ]
     },
     "execution_count": 21,
     "metadata": {},
     "output_type": "execute_result"
    }
   ],
   "source": [
    "combined_list"
   ]
  },
  {
   "cell_type": "markdown",
   "id": "b9f4d4a8-57aa-4cab-997e-a0f8d63038c1",
   "metadata": {},
   "source": [
    "&emsp;&emsp;构建content_maps字典。这个字典现在包含了键为URL和值为对应Markdown格式化内容的键值对。这样做的好处是可以通过URL快速查找到相应的Markdown内容，提高数据检索的效率，尤其在需要根据URL快速获取或显示内容的应用中非常有用。"
   ]
  },
  {
   "cell_type": "code",
   "execution_count": 22,
   "id": "1b1ad213-ba00-4363-870b-73b75ce19202",
   "metadata": {
    "tags": []
   },
   "outputs": [],
   "source": [
    "content_maps = {}\n",
    "for url, content in combined_list:\n",
    "    content_maps[url] = content"
   ]
  },
  {
   "cell_type": "code",
   "execution_count": 23,
   "id": "c5d969a5-b52f-4fc0-a48b-df541451fcc1",
   "metadata": {
    "collapsed": true,
    "jupyter": {
     "outputs_hidden": true
    },
    "tags": []
   },
   "outputs": [
    {
     "data": {
      "text/plain": [
       "{'https://www.sohu.com/a/745482265_121124692': '  *   * 新闻\\n  * 体育\\n  * 汽车\\n  * 房产\\n  * 旅游\\n  * 教育\\n  * 时尚\\n  * 科技\\n  * 财经\\n  * 娱乐\\n  * 更多 __\\n\\n母婴 健康 历史 军事 美食 文化 星座 专题 游戏 搞笑 动漫 宠物\\n\\n无障碍 关怀版\\n\\n####  法海说体育\\n\\n由内容质量、互动评论、分享传播等多维度分值决定，勋章级别越高(  )，代表其在平台内的综合表现越好。\\n\\n    __文章\\n    __总阅读\\n\\n查看TA的文章>\\n\\n评论\\n\\n     __\\n\\n#  2024年NBA总冠军是哪支球队?\\n\\n2023-12-20 08:31\\n\\n发布于：山西省\\n\\n**关于篮球的一切 关注才是热爱**\\n\\n纸面实力是纸面实力，最终能否夺冠，还有很多因素。\\n\\n2023-24赛季打了差不多一些比赛，东西部以争冠为目标的球队无非就是绿军、雄鹿、76人、热火；掘金、勇士、太阳、湖人、快船，或许还可以加上独行侠。\\n\\n**掘金：板凳薄弱**\\n\\n卫冕冠军掘金的首发依然是联盟顶级，赛季至今，掘金的先发组合百回合净胜分联盟第三，这其中，还要考虑到穆雷因伤缺阵3场。不过，掘金的板凳席确实不怎么样，休赛期走了布鲁斯-\\n布朗、杰夫-格林，如今只能靠布劳恩、沃特森等人撑起。赛季至今，掘金的板凳百回合净胜分联盟第21。\\n\\n**太阳：巨头尚未齐，控卫悬缺**\\n\\n休赛期组成三巨头的太阳队，至今三巨头没能合体出战过。布克打了2场又歇了，比尔刚复出打了3场，只能靠35岁的杜兰特一场出战36.7分钟，伤病隐患也会很大。首发有三巨头进攻实力足够，但轮换阵容没有一个控卫，一旦遭遇压迫式防守，进攻就很挣扎，只能看布克回归后能否调整。\\n\\n**勇士：先发与板凳倒置**\\n\\n上赛季，勇士的先发是联盟前三，本赛季先发百回合净胜分仅列联盟第19。克莱铁，维金斯进攻端和防守端都很低迷，勇士如今进攻全靠库里抡。赛季至今，除了库里，竟只有萨里奇曾单场得分20+过。勇士的板凳倒是在保罗的带领下打出不错的表现，百回合净胜分联盟第三。\\n\\n**湖人：三分铁如故，攻防皆下**\\n\\n原本以为上赛季赛季中期交易后，湖人的三分不再是大问题，没想到，赛季初三分铁成了湖人的BUFF。赛季至今，湖人三分命中率30.4%，联盟倒数第二。湖人的防守效率114，联盟第22，进攻效率109，联盟第23。就目前的表现来看，湖人是比上赛季下滑明显的。\\n\\n**快船：一个球不够分**\\n\\n交易得到哈登前，都说快船要起飞，结果是急刹。哈登代表快船出战4场，快船4战皆负。快船目前的问题突出在四巨头还没找到一起打球的方法，快船首发在攻防两端都存在问题，进攻端缺乏配合，一人持球其他人看。防守端也缺乏沟通，很容易漏人，而泰伦卢的防守体系要求又要求无限换防。\\n\\n**独行侠：防守问题依然存在**\\n\\n经历上赛季后段的失利，独行侠休赛期进行了针对性补强，如今东契奇和欧文的分工更加明确，配合也更默契。独行侠的进攻端更加无解，目前，独行侠的进攻效率是121.8，联盟第二。休赛期引进格威等人，独行侠的防守有所提升，但外线防守薄弱一直存在，目前防守效率是115.6，联盟第24。\\n\\n**凯尔特人：豪华先发与薄弱板凳**\\n\\n绿军目前看起来很强大，目前，进攻效率联盟第四，防守效率联盟第三，净效率联盟第一；场均篮板联盟第一。可能最大的问题是板凳席比较薄弱，赛季至今绿军板凳席场均得分24.6分，联盟倒数第二。绿军先发联盟顶级，但板凳席确实没几个能得分的。\\n\\n**稍晚比赛的临场分析方向会在球霸老K发布方案，供大家参考！**\\n\\n**关注老朋友文章中获取今日剩下的比赛，****没有九成的把握绝不轻易出手，一旦出手了，那必须是手到擒来！**\\n\\n**关注球霸扣1获取**\\n\\n**76人：核心季后赛的发挥**\\n\\n哈登离队，对76人的影响并没有那么大，恩比德和马克西组合依然能够带领76人在常规赛打出出色的战绩。加上新帅纳斯对球队的影响明显，76人现在的进攻打得更加流畅，转移球更多。这支球队的核心恩比德，还需要在季后赛证明自己，毕竟过去几个赛季，恩比德还没有在季后赛证明过自己。\\n\\n**雄鹿：防守严重下滑**\\n\\n休赛期，雄鹿后场先发霍乐迪和格雷森-\\n阿伦换成了利拉德和比斯利，最直接的问题是后场防守崩了，没了霍乐迪的领防，内线防守压力也很大。赛季至今，雄鹿的防守效率116.5，联盟第25，进攻效率113，联盟第11，也只是联盟中游水平。雄鹿要争冠，首先要解决的是后场防守的问题。\\n\\n**热火：进攻天赋不足**\\n\\n上赛季，热火黑八打进总决赛，创造了自己的奇迹。但这支热火，终究天赋不足，他们有出色的纪律和战术执行力，有顶级的教练，但顶层球星的天赋不足。季后赛，巴特勒和阿德巴约的硬解能力决定了热火能走多远。\\n\\n**关注球霸扣1，获取3C1**\\n\\n**经过多年的交流考察，可以肯定的是： 每单都是团队分析师细心专研，基本面到位，指数了解透彻的场次！不多推不乱推，没有九成信心不敢轻易出手！**\\n\\n**库里超全的进球GIF图组合**\\n\\n**有天赋的去打橄榄球，没天赋的才去打篮球，这句话是真的吗？**\\n\\n**NBA的八分释球权是什么梗？**\\n\\n**为什么感觉现在的 NBA 没有以前的精彩？**\\n\\n**关于文班亚马 您可能不知道的十件轶事**\\n\\n**如何评价步行者新星哈里伯顿？**\\n\\n**如何评价詹姆斯获得首届季中锦标赛的MVP？**\\n\\n**NBA季中锦标赛冠军的含金量如何？**\\n\\n**最全合集｜关于科比的所有故事**\\n\\n**当然也欢迎你分享本文，****你的支持可以鼓励我创作出更多有价值的文章供你阅读。** __返回搜狐，查看更多\\n\\n责任编辑：\\n\\n平台声明：该文观点仅代表作者本人，搜狐号系信息发布平台，搜狐仅提供信息存储空间服务。\\n\\n阅读 (__)\\n\\n',\n",
       " 'https://zh.wikipedia.org/zh-hans/2024%E5%B9%B4NBA%E5%AD%A3%E5%BE%8C%E8%B3%BD': '# ERROR\\n\\n## The requested URL could not be retrieved\\n\\n* * *\\n\\nThe following error was encountered while trying to retrieve the URL:\\nhttps://zh.wikipedia.org/*\\n\\n> **Failed to establish a secure connection to [unknown]**\\n\\nThe system returned:\\n\\n>\\n>     [No Error] (TLS code: SQUID_TLS_ERR_CONNECT+TLS_IO_ERR=5)\\n>\\n> Handshake with SSL server failed: [No Error]\\n\\nThis proxy and the remote host failed to negotiate a mutually acceptable\\nsecurity settings for handling your request. It is possible that the remote\\nhost does not support secure connections, or the proxy is not satisfied with\\nthe host security credentials.\\n\\nYour cache administrator is webmaster.\\n\\n  \\n\\n* * *\\n\\nGenerated Wed, 11 Sep 2024 08:08:00 GMT by cache.autodl.com (squid/5.2)\\n\\n',\n",
       " 'https://zh.wikipedia.org/zh-hans/2024%E5%B9%B4NBA%E7%B8%BD%E6%B1%BA%E8%B3%BD': '# ERROR\\n\\n## The requested URL could not be retrieved\\n\\n* * *\\n\\nThe following error was encountered while trying to retrieve the URL:\\nhttps://zh.wikipedia.org/*\\n\\n> **Failed to establish a secure connection to [unknown]**\\n\\nThe system returned:\\n\\n>\\n>     [No Error] (TLS code: SQUID_TLS_ERR_CONNECT+TLS_IO_ERR=5)\\n>\\n> Handshake with SSL server failed: [No Error]\\n\\nThis proxy and the remote host failed to negotiate a mutually acceptable\\nsecurity settings for handling your request. It is possible that the remote\\nhost does not support secure connections, or the proxy is not satisfied with\\nthe host security credentials.\\n\\nYour cache administrator is webmaster.\\n\\n  \\n\\n* * *\\n\\nGenerated Wed, 11 Sep 2024 08:08:20 GMT by cache.autodl.com (squid/5.2)\\n\\n'}"
      ]
     },
     "execution_count": 23,
     "metadata": {},
     "output_type": "execute_result"
    }
   ],
   "source": [
    "content_maps"
   ]
  },
  {
   "cell_type": "markdown",
   "id": "43052f6c-b268-43e2-b4f5-5d1b7cc015b5",
   "metadata": {},
   "source": [
    "&emsp;&emsp;更新搜索结果，为每个结果添加对应的内容。"
   ]
  },
  {
   "cell_type": "code",
   "execution_count": 24,
   "id": "b3c1587c-1c01-4e8d-91cd-f043643d4873",
   "metadata": {
    "tags": []
   },
   "outputs": [],
   "source": [
    "# 更新搜索结果，为每个结果添加对应的内容\n",
    "for result in documents_docs:\n",
    "    if result.metadata['link'] in content_maps:\n",
    "        result.metadata['content'] = content_maps[result.metadata['link']]"
   ]
  },
  {
   "cell_type": "code",
   "execution_count": 25,
   "id": "f4017548-2b2c-4eee-91c3-394f22a7455c",
   "metadata": {
    "collapsed": true,
    "jupyter": {
     "outputs_hidden": true
    },
    "scrolled": true,
    "tags": []
   },
   "outputs": [
    {
     "data": {
      "text/plain": [
       "[Document(metadata={'uuid': 'a7f003569458780cec0816a8cbd330ec', 'title': '2024年NBA总冠军是哪支球队? - 搜狐', 'snippet': '2023-24赛季打了差不多一些比赛，东西部以争冠为目标的球队无非就是绿军、雄鹿、76人、热火；掘金、勇士、太阳、湖人、快船，或许还可以加上独行侠。 掘金： ...', 'link': 'https://www.sohu.com/a/745482265_121124692', 'score': 0.04878048780487809, 'content': '  *   * 新闻\\n  * 体育\\n  * 汽车\\n  * 房产\\n  * 旅游\\n  * 教育\\n  * 时尚\\n  * 科技\\n  * 财经\\n  * 娱乐\\n  * 更多 __\\n\\n母婴 健康 历史 军事 美食 文化 星座 专题 游戏 搞笑 动漫 宠物\\n\\n无障碍 关怀版\\n\\n####  法海说体育\\n\\n由内容质量、互动评论、分享传播等多维度分值决定，勋章级别越高(  )，代表其在平台内的综合表现越好。\\n\\n    __文章\\n    __总阅读\\n\\n查看TA的文章>\\n\\n评论\\n\\n     __\\n\\n#  2024年NBA总冠军是哪支球队?\\n\\n2023-12-20 08:31\\n\\n发布于：山西省\\n\\n**关于篮球的一切 关注才是热爱**\\n\\n纸面实力是纸面实力，最终能否夺冠，还有很多因素。\\n\\n2023-24赛季打了差不多一些比赛，东西部以争冠为目标的球队无非就是绿军、雄鹿、76人、热火；掘金、勇士、太阳、湖人、快船，或许还可以加上独行侠。\\n\\n**掘金：板凳薄弱**\\n\\n卫冕冠军掘金的首发依然是联盟顶级，赛季至今，掘金的先发组合百回合净胜分联盟第三，这其中，还要考虑到穆雷因伤缺阵3场。不过，掘金的板凳席确实不怎么样，休赛期走了布鲁斯-\\n布朗、杰夫-格林，如今只能靠布劳恩、沃特森等人撑起。赛季至今，掘金的板凳百回合净胜分联盟第21。\\n\\n**太阳：巨头尚未齐，控卫悬缺**\\n\\n休赛期组成三巨头的太阳队，至今三巨头没能合体出战过。布克打了2场又歇了，比尔刚复出打了3场，只能靠35岁的杜兰特一场出战36.7分钟，伤病隐患也会很大。首发有三巨头进攻实力足够，但轮换阵容没有一个控卫，一旦遭遇压迫式防守，进攻就很挣扎，只能看布克回归后能否调整。\\n\\n**勇士：先发与板凳倒置**\\n\\n上赛季，勇士的先发是联盟前三，本赛季先发百回合净胜分仅列联盟第19。克莱铁，维金斯进攻端和防守端都很低迷，勇士如今进攻全靠库里抡。赛季至今，除了库里，竟只有萨里奇曾单场得分20+过。勇士的板凳倒是在保罗的带领下打出不错的表现，百回合净胜分联盟第三。\\n\\n**湖人：三分铁如故，攻防皆下**\\n\\n原本以为上赛季赛季中期交易后，湖人的三分不再是大问题，没想到，赛季初三分铁成了湖人的BUFF。赛季至今，湖人三分命中率30.4%，联盟倒数第二。湖人的防守效率114，联盟第22，进攻效率109，联盟第23。就目前的表现来看，湖人是比上赛季下滑明显的。\\n\\n**快船：一个球不够分**\\n\\n交易得到哈登前，都说快船要起飞，结果是急刹。哈登代表快船出战4场，快船4战皆负。快船目前的问题突出在四巨头还没找到一起打球的方法，快船首发在攻防两端都存在问题，进攻端缺乏配合，一人持球其他人看。防守端也缺乏沟通，很容易漏人，而泰伦卢的防守体系要求又要求无限换防。\\n\\n**独行侠：防守问题依然存在**\\n\\n经历上赛季后段的失利，独行侠休赛期进行了针对性补强，如今东契奇和欧文的分工更加明确，配合也更默契。独行侠的进攻端更加无解，目前，独行侠的进攻效率是121.8，联盟第二。休赛期引进格威等人，独行侠的防守有所提升，但外线防守薄弱一直存在，目前防守效率是115.6，联盟第24。\\n\\n**凯尔特人：豪华先发与薄弱板凳**\\n\\n绿军目前看起来很强大，目前，进攻效率联盟第四，防守效率联盟第三，净效率联盟第一；场均篮板联盟第一。可能最大的问题是板凳席比较薄弱，赛季至今绿军板凳席场均得分24.6分，联盟倒数第二。绿军先发联盟顶级，但板凳席确实没几个能得分的。\\n\\n**稍晚比赛的临场分析方向会在球霸老K发布方案，供大家参考！**\\n\\n**关注老朋友文章中获取今日剩下的比赛，****没有九成的把握绝不轻易出手，一旦出手了，那必须是手到擒来！**\\n\\n**关注球霸扣1获取**\\n\\n**76人：核心季后赛的发挥**\\n\\n哈登离队，对76人的影响并没有那么大，恩比德和马克西组合依然能够带领76人在常规赛打出出色的战绩。加上新帅纳斯对球队的影响明显，76人现在的进攻打得更加流畅，转移球更多。这支球队的核心恩比德，还需要在季后赛证明自己，毕竟过去几个赛季，恩比德还没有在季后赛证明过自己。\\n\\n**雄鹿：防守严重下滑**\\n\\n休赛期，雄鹿后场先发霍乐迪和格雷森-\\n阿伦换成了利拉德和比斯利，最直接的问题是后场防守崩了，没了霍乐迪的领防，内线防守压力也很大。赛季至今，雄鹿的防守效率116.5，联盟第25，进攻效率113，联盟第11，也只是联盟中游水平。雄鹿要争冠，首先要解决的是后场防守的问题。\\n\\n**热火：进攻天赋不足**\\n\\n上赛季，热火黑八打进总决赛，创造了自己的奇迹。但这支热火，终究天赋不足，他们有出色的纪律和战术执行力，有顶级的教练，但顶层球星的天赋不足。季后赛，巴特勒和阿德巴约的硬解能力决定了热火能走多远。\\n\\n**关注球霸扣1，获取3C1**\\n\\n**经过多年的交流考察，可以肯定的是： 每单都是团队分析师细心专研，基本面到位，指数了解透彻的场次！不多推不乱推，没有九成信心不敢轻易出手！**\\n\\n**库里超全的进球GIF图组合**\\n\\n**有天赋的去打橄榄球，没天赋的才去打篮球，这句话是真的吗？**\\n\\n**NBA的八分释球权是什么梗？**\\n\\n**为什么感觉现在的 NBA 没有以前的精彩？**\\n\\n**关于文班亚马 您可能不知道的十件轶事**\\n\\n**如何评价步行者新星哈里伯顿？**\\n\\n**如何评价詹姆斯获得首届季中锦标赛的MVP？**\\n\\n**NBA季中锦标赛冠军的含金量如何？**\\n\\n**最全合集｜关于科比的所有故事**\\n\\n**当然也欢迎你分享本文，****你的支持可以鼓励我创作出更多有价值的文章供你阅读。** __返回搜狐，查看更多\\n\\n责任编辑：\\n\\n平台声明：该文观点仅代表作者本人，搜狐号系信息发布平台，搜狐仅提供信息存储空间服务。\\n\\n阅读 (__)\\n\\n'}, page_content='2023-24赛季打了差不多一些比赛，东西部以争冠为目标的球队无非就是绿军、雄鹿、76人、热火；掘金、勇士、太阳、湖人、快船，或许还可以加上独行侠。 掘金： ...'),\n",
       " Document(metadata={'uuid': '6b138b6ae7861f7cdc5ed6f98e42f9ba', 'title': '2024年NBA季后赛- 维基百科', 'snippet': '赛季, 2023–24 ; 冠军, 波士顿凯尔特人 (18次总冠军) ; 失利球队, 达拉斯独行侠队 (2次进入决赛).', 'link': 'https://zh.wikipedia.org/zh-hans/2024%E5%B9%B4NBA%E5%AD%A3%E5%BE%8C%E8%B3%BD', 'score': 0.033333333333333326, 'content': '# ERROR\\n\\n## The requested URL could not be retrieved\\n\\n* * *\\n\\nThe following error was encountered while trying to retrieve the URL:\\nhttps://zh.wikipedia.org/*\\n\\n> **Failed to establish a secure connection to [unknown]**\\n\\nThe system returned:\\n\\n>\\n>     [No Error] (TLS code: SQUID_TLS_ERR_CONNECT+TLS_IO_ERR=5)\\n>\\n> Handshake with SSL server failed: [No Error]\\n\\nThis proxy and the remote host failed to negotiate a mutually acceptable\\nsecurity settings for handling your request. It is possible that the remote\\nhost does not support secure connections, or the proxy is not satisfied with\\nthe host security credentials.\\n\\nYour cache administrator is webmaster.\\n\\n  \\n\\n* * *\\n\\nGenerated Wed, 11 Sep 2024 08:08:00 GMT by cache.autodl.com (squid/5.2)\\n\\n'}, page_content='赛季, 2023–24 ; 冠军, 波士顿凯尔特人 (18次总冠军) ; 失利球队, 达拉斯独行侠队 (2次进入决赛).'),\n",
       " Document(metadata={'uuid': '07ec36227ed79525b4c7d82434e8a3e6', 'title': '2024年NBA总决赛- 维基百科，自由的百科全书', 'snippet': '2024年NBA总决赛（英语：2024 NBA Finals）是2023–24 NBA赛季的冠军系列赛，将由2024年6月6日至6月17日进行，由东部第一种子波士顿凯尔特人对战西部第五种子达拉斯独行侠， ...', 'link': 'https://zh.wikipedia.org/zh-hans/2024%E5%B9%B4NBA%E7%B8%BD%E6%B1%BA%E8%B3%BD', 'score': 0.02857142857142858, 'content': '# ERROR\\n\\n## The requested URL could not be retrieved\\n\\n* * *\\n\\nThe following error was encountered while trying to retrieve the URL:\\nhttps://zh.wikipedia.org/*\\n\\n> **Failed to establish a secure connection to [unknown]**\\n\\nThe system returned:\\n\\n>\\n>     [No Error] (TLS code: SQUID_TLS_ERR_CONNECT+TLS_IO_ERR=5)\\n>\\n> Handshake with SSL server failed: [No Error]\\n\\nThis proxy and the remote host failed to negotiate a mutually acceptable\\nsecurity settings for handling your request. It is possible that the remote\\nhost does not support secure connections, or the proxy is not satisfied with\\nthe host security credentials.\\n\\nYour cache administrator is webmaster.\\n\\n  \\n\\n* * *\\n\\nGenerated Wed, 11 Sep 2024 08:08:20 GMT by cache.autodl.com (squid/5.2)\\n\\n'}, page_content='2024年NBA总决赛（英语：2024 NBA Finals）是2023–24 NBA赛季的冠军系列赛，将由2024年6月6日至6月17日进行，由东部第一种子波士顿凯尔特人对战西部第五种子达拉斯独行侠， ...')]"
      ]
     },
     "execution_count": 25,
     "metadata": {},
     "output_type": "execute_result"
    }
   ],
   "source": [
    "documents_docs"
   ]
  },
  {
   "cell_type": "markdown",
   "id": "046c21cc-2619-4866-96d6-072bc386811b",
   "metadata": {},
   "source": [
    "&emsp;&emsp;对于联网检索的预处理工作，至此已经完成。目前，我们已获取了与查询最相关的网页链接，并将这些网页的完整内容转换成了Document格式。这一格式化步骤为接下来的RAG处理流程奠定了基础。"
   ]
  },
  {
   "cell_type": "markdown",
   "id": "78fab1b5-4d14-4a7d-9e1d-4002ad0d5641",
   "metadata": {},
   "source": [
    "&emsp;&emsp;接下来，我们进入到fufan-chat-api系统中，看一下如何在系统代码架构下异步的接入实时检索流程。"
   ]
  }
 ],
 "metadata": {
  "kernelspec": {
   "display_name": "Python 3 (ipykernel)",
   "language": "python",
   "name": "python3"
  },
  "language_info": {
   "codemirror_mode": {
    "name": "ipython",
    "version": 3
   },
   "file_extension": ".py",
   "mimetype": "text/x-python",
   "name": "python",
   "nbconvert_exporter": "python",
   "pygments_lexer": "ipython3",
   "version": "3.8.10"
  }
 },
 "nbformat": 4,
 "nbformat_minor": 5
}
