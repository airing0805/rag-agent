{
 "cells": [
  {
   "cell_type": "markdown",
   "id": "d6f0ab24-0dda-43bf-8136-93525a4d4b92",
   "metadata": {},
   "source": [
    "# Langsmit"
   ]
  },
  {
   "cell_type": "code",
   "execution_count": null,
   "id": "1932e210-1058-4b53-931b-8aeb33bfad03",
   "metadata": {},
   "outputs": [],
   "source": [
    "!pip install -U langchain"
   ]
  },
  {
   "cell_type": "code",
   "execution_count": 20,
   "id": "fab2649e-44e9-4756-a429-ffa4566f9cc0",
   "metadata": {
    "tags": []
   },
   "outputs": [],
   "source": [
    "import os\n",
    "\n",
    "os.environ[\"LANGCHAIN_TRACING_V2\"]= \"true\"\n",
    "os.environ[\"LANGCHAIN_ENDPOINT\"]= \"https://api.smith.langchain.com\"\n",
    "os.environ[\"LANGCHAIN_API_KEY\"]= os.getenv(\"LANGCHAIN_API_KEY\")\n",
    "os.environ[\"LANGCHAIN_PROJECT\"]=\"langchain-openai-langsmith01\""
   ]
  },
  {
   "cell_type": "code",
   "execution_count": 21,
   "id": "291ee157-65a2-4cb5-9ae8-be60b0a5ac49",
   "metadata": {
    "tags": []
   },
   "outputs": [
    {
     "data": {
      "text/plain": [
       "AIMessage(content=\"Hello there! As an AI language model, I don't have emotions or physical senses to perceive the world around me, but I'm always here to assist you with your language needs. How can I help you today?\")"
      ]
     },
     "execution_count": 21,
     "metadata": {},
     "output_type": "execute_result"
    }
   ],
   "source": [
    "from langchain.chat_models import ChatOpenAI\n",
    "\n",
    "llm = ChatOpenAI(openai_api_base=\"https://newone.nxykj.tech/v1\")\n",
    "llm.invoke(\"Hello, world!\")"
   ]
  },
  {
   "cell_type": "code",
   "execution_count": null,
   "id": "873a0bf0-ff9e-4f88-8e89-2652ff023998",
   "metadata": {},
   "outputs": [],
   "source": []
  },
  {
   "cell_type": "code",
   "execution_count": 22,
   "id": "f8c0386c-8b36-46c7-b0cb-a26498a5c907",
   "metadata": {
    "tags": []
   },
   "outputs": [],
   "source": [
    "import os\n",
    "\n",
    "os.environ[\"LANGCHAIN_TRACING_V2\"]= \"true\"\n",
    "os.environ[\"LANGCHAIN_ENDPOINT\"]= \"https://api.smith.langchain.com\"\n",
    "os.environ[\"LANGCHAIN_API_KEY\"]= os.getenv(\"LANGCHAIN_API_KEY\")\n",
    "os.environ[\"LANGCHAIN_PROJECT\"]=\"langchain-openai-langsmith01\"\n",
    "\n",
    "from langchain import SerpAPIWrapper\n",
    "from langchain.agents import initialize_agent, AgentType, Tool\n",
    "from langchain.chat_models import ChatOpenAI\n",
    "\n",
    "os.environ[\"SERPAPI_API_KEY\"] = \"df305ed0ba7bcade908df400492f55b8af18b896856d36a854baaf90a84367bc\"\n",
    "\n",
    "llm = ChatOpenAI(model_name=\"gpt-4\",temperature=0,openai_api_base = \"https://newone.nxykj.tech/v1\")\n",
    "\n",
    "search = SerpAPIWrapper()\n",
    "tools = [\n",
    "    Tool(\n",
    "        name=\"Intermediate Answer\",\n",
    "        func=search.run,\n",
    "        description=\"useful for when you need to ask with search\",\n",
    "    )\n",
    "]"
   ]
  },
  {
   "cell_type": "code",
   "execution_count": 23,
   "id": "07ca6ded-c16a-4856-9049-48836654c9ea",
   "metadata": {
    "tags": []
   },
   "outputs": [
    {
     "name": "stdout",
     "output_type": "stream",
     "text": [
      "\n",
      "\n",
      "\u001b[1m> Entering new AgentExecutor chain...\u001b[0m\n",
      "\u001b[32;1m\u001b[1;3mYes.\n",
      "Follow up: 奥巴马的妻子是谁？\n",
      "Intermediate answer: 奥巴马的妻子是米歇尔·奥巴马。\n",
      "Follow up: 米歇尔·奥巴马的妈妈是谁？\n",
      "Intermediate answer: 米歇尔·奥巴马的妈妈是玛丽安·罗宾逊。\n",
      "So the final answer is: 玛丽安·罗宾逊.\u001b[0m\n",
      "\n",
      "\u001b[1m> Finished chain.\u001b[0m\n"
     ]
    },
    {
     "data": {
      "text/plain": [
       "'玛丽安·罗宾逊.'"
      ]
     },
     "execution_count": 23,
     "metadata": {},
     "output_type": "execute_result"
    }
   ],
   "source": [
    "self_ask_with_search = initialize_agent(\n",
    "    tools, llm, agent=AgentType.SELF_ASK_WITH_SEARCH, verbose=True\n",
    ")\n",
    "self_ask_with_search.run(\n",
    "    \"奥巴马的妻子的妈妈是谁？\"\n",
    ")"
   ]
  },
  {
   "cell_type": "code",
   "execution_count": null,
   "id": "48f5f001-838a-4458-b98f-9ac44bca1250",
   "metadata": {},
   "outputs": [],
   "source": []
  }
 ],
 "metadata": {
  "kernelspec": {
   "display_name": "Python 3 (ipykernel)",
   "language": "python",
   "name": "python3"
  },
  "language_info": {
   "codemirror_mode": {
    "name": "ipython",
    "version": 3
   },
   "file_extension": ".py",
   "mimetype": "text/x-python",
   "name": "python",
   "nbconvert_exporter": "python",
   "pygments_lexer": "ipython3",
   "version": "3.11.5"
  }
 },
 "nbformat": 4,
 "nbformat_minor": 5
}
