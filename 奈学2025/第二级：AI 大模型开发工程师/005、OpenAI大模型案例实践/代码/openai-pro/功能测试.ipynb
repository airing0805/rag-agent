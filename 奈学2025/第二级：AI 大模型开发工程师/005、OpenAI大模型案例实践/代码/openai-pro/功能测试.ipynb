{
 "cells": [
  {
   "cell_type": "markdown",
   "id": "9e848534-9691-4888-b27c-466417aa496e",
   "metadata": {},
   "source": [
    "## 文档操作"
   ]
  },
  {
   "cell_type": "markdown",
   "id": "05676f88-0a5d-453d-8a3a-f7313fb1c6e0",
   "metadata": {
    "tags": []
   },
   "source": [
    "### 导入依赖包"
   ]
  },
  {
   "cell_type": "code",
   "execution_count": 2,
   "id": "2328d58f-d734-49f2-a11b-ca77e9886409",
   "metadata": {
    "collapsed": true,
    "jupyter": {
     "outputs_hidden": true
    },
    "tags": []
   },
   "outputs": [
    {
     "name": "stderr",
     "output_type": "stream",
     "text": [
      "'pip' 不是内部或外部命令，也不是可运行的程序\n",
      "或批处理文件。\n"
     ]
    }
   ],
   "source": [
    "## 导入操作word文档和PDF文档的依赖库\n",
    "! pip install pdfplumber"
   ]
  },
  {
   "cell_type": "markdown",
   "id": "6b5504ea-70e7-4681-aa85-8b2b51be7a68",
   "metadata": {},
   "source": [
    "### 1. PDF文档操作"
   ]
  },
  {
   "cell_type": "markdown",
   "id": "bdcc4616-fc34-454f-90d8-63707dadb7c3",
   "metadata": {},
   "source": [
    "#### 读取文档"
   ]
  },
  {
   "cell_type": "code",
   "execution_count": 2,
   "id": "e403577f-9f7f-47fa-b630-b147c306d5bf",
   "metadata": {
    "tags": []
   },
   "outputs": [],
   "source": [
    "import pdfplumber\n",
    "pdf = pdfplumber.open(\"测试文档/test1.pdf\")\n",
    "pages = pdf.pages"
   ]
  },
  {
   "cell_type": "code",
   "execution_count": 3,
   "id": "2adb9ece-84af-49da-a5e6-6018b0234953",
   "metadata": {
    "collapsed": true,
    "jupyter": {
     "outputs_hidden": true
    },
    "tags": []
   },
   "outputs": [
    {
     "name": "stdout",
     "output_type": "stream",
     "text": [
      "Beijing\n",
      "Beijing,China'ssprawlingcapital,isacityimbuedwithhistory,culture,andinnovation.Spanning\n",
      "over 16,410 square kilometers, it is a hub of economic activity, political power, and cultural\n",
      "wealth. Home to more than 21 million people, Beijing is a melting pot where tradition meets\n",
      "modernity,creatingauniqueblendthatisquintessentiallyChinese.\n",
      "Since the earliest days of China's recorded history, Beijing has been a pivotal center. The city's\n",
      "rich past is evident in its numerousarchitectural marvels. The Forbidden City,a palatial heart of\n",
      "the ancientChinese empire, is atestament to the grandeurof China's imperial past.Its intricate\n",
      "design andmajesticbeauty attractmillionsofvisitorseach year,who marvel atitsopulence and\n",
      "historicalsignificance.\n",
      "Not far from the Forbidden City lies Tiananmen Square, the world's largest public square, a\n",
      "symbolofnationalpride,andaplacesteepedinmodernhistory.TheNationalMuseumofChina\n",
      "flanks the square's east side, offering visitors a comprehensive overview of China's illustrious\n",
      "historyandrichculture.\n",
      "Abitfurtherfromthecitycenter,wefindtheGreatWallofChina.Thisiconicmonument,winding\n",
      "through mountains and valleys, stands as a symbol of resilience and ingenuity. A visit to Beijing\n",
      "wouldbeincompletewithoutsettingfootonthismagnificentfeatofancientengineering.\n",
      "But Beijing is not just about history. The city is also a beacon of modernity and innovation. The\n",
      "iconicBird'sNeststadiumandtheWaterCube,botharchitecturalwondersfromthe2008Beijing\n",
      "Olympics,showcasethecity'scommitmenttomoderndesignandsustainability.\n",
      "In the realmof technology and business, Beijing has established itself asa global hub. It's home\n",
      "to tech giants like Baidu, JD.com, and ByteDance, driving innovation in everything from\n",
      "e-commercetoartificialintelligence.\n",
      "The city's culture is as vibrant as its skyline. Beijing's culinary scene is diverse, boasting\n",
      "world-renowned Peking duck and an array of other dishes. The city's numerous markets and\n",
      "shoppingdistrictsoffereverythingfromhighfashiontotraditionalChinesecrafts.\n",
      "Beijing is a city of contrasts, where centuries-old palaces stand beside towering skyscrapers,\n",
      "where ancient traditions blend with cutting-edge technology, where the old and new coexist in\n",
      "harmony.It'sacitythatoffersawindowintoChina'spast,aglimpseofitsfuture,andaviewofits\n",
      "thriving present. From its bustling streets to its tranquil temples, every facet of Beijing tells a\n",
      "storyofacitythatisdeeplyrootedinitshistory,yetambitiouslyreachingforthestars.\n",
      "Shanghai, the most populous city in China, is a vibrant metropolis where East meets West.\n",
      "Spanning 6,341 square kilometers, Shanghai is an international hub for finance, commerce, and\n",
      "culture.Thecityscapeisastunningblendoftraditionalandmodernarchitecture,underscoredby\n",
      "the impressive skyline of Pudong District, wherethe iconicOriental Pearl Tower and the soaring\n",
      "ShanghaiTower,oneoftheworld'stallestbuildings,manifestthecity'sprogress.\n",
      "Shanghai's rich history is preserved in areas like the Bund, a historic waterfront lined with\n",
      "colonial-erabuildings. Itserves asa vivid reminderof the city's colonialpast,juxtaposed against\n",
      "themodernskylineacrosstheHuangpuRiver.\n",
      "In the depth of its culture, Shanghai is equally mesmerizing. From the bustling Nanjing Road\n",
      "shopping district to the tranquility of Yuyuan Garden, from the delicacy of Shanghai-style soup\n",
      "dumplingstotheartisticexpressionsin theM50ArtDistrict,Shanghaiinterweavestradition and\n",
      "modernity in a uniquely captivating way, embodying China's vibrant dynamism and cultural\n",
      "richness.\n",
      "Here'sasimpleASCIIrepresentation:\n",
      "No. Fruit Price($)\n",
      "1 Apple 1\n",
      "2 Banana 0.5\n",
      "3 Pear 0.7\n",
      "4 Orange 1\n",
      "Guangzhou, located in southern China, is the capital of Guangdong Province and one of the\n",
      "largestcitiesinChina.Guangzhouhasalonghistoryandwasoneoftheearliestportsforforeign\n",
      "trade in China, as well as a cultural center in southern China. The food culture in Guangzhou is\n",
      "richanddiverse,withvarioussnacksandspecialtydishessuchasroastgoose,charsiu,whitecut\n",
      "chicken,etc.Guangzhouhasmanyattractions,suchasBaiyunMountain,YuexiuPark,PearlRiver\n",
      "Night Cruise, etc. Guangzhou has convenient transportation, with various means of\n",
      "transportation such as subway, bus, taxi, etc. Guangzhou has a warm and humid climate, with\n",
      "four seasons like spring, making it a good place to travel. Guangzhou is a vibrant and charming\n",
      "city,worthavisit.\n",
      "\n"
     ]
    }
   ],
   "source": [
    "# 读取所有页面的文本内容\n",
    "with pdfplumber.open(\"测试文档/test1.pdf\") as pdf:\n",
    "    for page in pdf.pages:\n",
    "        print(page.extract_text())\n"
   ]
  },
  {
   "cell_type": "code",
   "execution_count": 4,
   "id": "21eb63cd-e312-439c-a824-36b635491487",
   "metadata": {
    "collapsed": true,
    "jupyter": {
     "outputs_hidden": true
    },
    "tags": []
   },
   "outputs": [
    {
     "data": {
      "text/plain": [
       "\"                                                                                  \\n                                                                                  \\n                                                                                  \\n                                                                                  \\n                                                                                  \\n                                                                                  \\n                                                                                  \\n            Beijing                                                               \\n                                                                                  \\n                                                                                  \\n            Beijing,China'ssprawlingcapital,isacityimbuedwithhistory,culture,andinnovation.Spanning\\n            over 16,410 square kilometers, it is a hub of economic activity, political power, and cultural\\n                                                                                  \\n            wealth. Home to more than 21 million people, Beijing is a melting pot where tradition meets\\n            modernity,creatingauniqueblendthatisquintessentiallyChinese.          \\n                                                                                  \\n            Since the earliest days of China's recorded history, Beijing has been a pivotal center. The city's\\n            rich past is evident in its numerousarchitectural marvels. The Forbidden City,a palatial heart of\\n                                                                                  \\n            the ancientChinese empire, is atestament to the grandeurof China's imperial past.Its intricate\\n            design andmajesticbeauty attractmillionsofvisitorseach year,who marvel atitsopulence and\\n            historicalsignificance.                                               \\n                                                                                  \\n            Not far from the Forbidden City lies Tiananmen Square, the world's largest public square, a\\n                                                                                  \\n            symbolofnationalpride,andaplacesteepedinmodernhistory.TheNationalMuseumofChina\\n            flanks the square's east side, offering visitors a comprehensive overview of China's illustrious\\n            historyandrichculture.                                                \\n                                                                                  \\n            Abitfurtherfromthecitycenter,wefindtheGreatWallofChina.Thisiconicmonument,winding\\n                                                                                  \\n            through mountains and valleys, stands as a symbol of resilience and ingenuity. A visit to Beijing\\n            wouldbeincompletewithoutsettingfootonthismagnificentfeatofancientengineering.\\n                                                                                  \\n            But Beijing is not just about history. The city is also a beacon of modernity and innovation. The\\n            iconicBird'sNeststadiumandtheWaterCube,botharchitecturalwondersfromthe2008Beijing\\n                                                                                  \\n            Olympics,showcasethecity'scommitmenttomoderndesignandsustainability.  \\n                                                                                  \\n            In the realmof technology and business, Beijing has established itself asa global hub. It's home\\n            to tech giants like Baidu, JD.com, and ByteDance, driving innovation in everything from\\n            e-commercetoartificialintelligence.                                   \\n                                                                                  \\n                                                                                  \\n            The city's culture is as vibrant as its skyline. Beijing's culinary scene is diverse, boasting\\n            world-renowned Peking duck and an array of other dishes. The city's numerous markets and\\n            shoppingdistrictsoffereverythingfromhighfashiontotraditionalChinesecrafts.\\n                                                                                  \\n                                                                                  \\n            Beijing is a city of contrasts, where centuries-old palaces stand beside towering skyscrapers,\\n            where ancient traditions blend with cutting-edge technology, where the old and new coexist in\\n            harmony.It'sacitythatoffersawindowintoChina'spast,aglimpseofitsfuture,andaviewofits\\n            thriving present. From its bustling streets to its tranquil temples, every facet of Beijing tells a\\n            storyofacitythatisdeeplyrootedinitshistory,yetambitiouslyreachingforthestars.\\n                                                                                  \\n                                                                                  \\n                                                                                  \\n                                                                                  \\n                                                                                  \\n                                                                                  \\n                                                                                  \\n                                                                                  \\n                                                                                  \\n                                                                                  \""
      ]
     },
     "execution_count": 4,
     "metadata": {},
     "output_type": "execute_result"
    }
   ],
   "source": [
    "# 获取单页文本（保留布局）\n",
    "text = pages[0].extract_text(layout=True)\n",
    "text"
   ]
  },
  {
   "cell_type": "markdown",
   "id": "d796c7fd-81bd-4f03-8fc8-10eca75b9028",
   "metadata": {},
   "source": [
    "### 2. 表格操作"
   ]
  },
  {
   "cell_type": "code",
   "execution_count": 5,
   "id": "943686d5-645c-4e97-b56b-9a4a017897c3",
   "metadata": {
    "tags": []
   },
   "outputs": [
    {
     "data": {
      "text/plain": [
       "[['No.', 'Fruit', 'Price($)'],\n",
       " ['1', 'Apple', '1'],\n",
       " ['2', 'Banana', '0.5'],\n",
       " ['3', 'Pear', '0.7'],\n",
       " ['4', 'Orange', '1']]"
      ]
     },
     "execution_count": 5,
     "metadata": {},
     "output_type": "execute_result"
    }
   ],
   "source": [
    "table = pages[1].extract_table()\n",
    "table"
   ]
  },
  {
   "cell_type": "code",
   "execution_count": 39,
   "id": "fc64ace6-a6da-431e-9994-f03bd06be2cb",
   "metadata": {
    "tags": []
   },
   "outputs": [
    {
     "name": "stdout",
     "output_type": "stream",
     "text": [
      "  No.   Fruit Price($)\n",
      "0   1   Apple        1\n",
      "1   2  Banana      0.5\n",
      "2   3    Pear      0.7\n",
      "3   4  Orange        1\n"
     ]
    }
   ],
   "source": [
    "import pandas as pd\n",
    "\n",
    "\n",
    "df = pd.DataFrame(table[1:], columns=table[0])\n",
    "\n",
    "print(df)"
   ]
  },
  {
   "cell_type": "markdown",
   "id": "19d44c16-6a43-4d9f-bed4-3e7d5503e544",
   "metadata": {},
   "source": [
    "### 3. 图片操作"
   ]
  },
  {
   "cell_type": "code",
   "execution_count": 32,
   "id": "854bfbe2-0167-4f8f-8b0a-039eb9661f85",
   "metadata": {
    "tags": []
   },
   "outputs": [
    {
     "data": {
      "text/plain": [
       "[{'x0': 90.0,\n",
       "  'y0': 462.82,\n",
       "  'x1': 260.52,\n",
       "  'y1': 718.1800000000001,\n",
       "  'width': 170.51999999999998,\n",
       "  'height': 255.36000000000007,\n",
       "  'stream': <PDFStream(24): raw=36782, {'BitsPerComponent': 8, 'ColorSpace': /'DeviceRGB', 'Filter': /'DCTDecode', 'Height': 500, 'Length': 36782, 'Subtype': /'Image', 'Type': /'XObject', 'Width': 334}>,\n",
       "  'srcsize': (334, 500),\n",
       "  'imagemask': None,\n",
       "  'bits': 8,\n",
       "  'colorspace': [/'DeviceRGB'],\n",
       "  'object_type': 'image',\n",
       "  'page_number': 3,\n",
       "  'top': 123.71999999999991,\n",
       "  'bottom': 379.08,\n",
       "  'doctop': 1807.52}]"
      ]
     },
     "execution_count": 32,
     "metadata": {},
     "output_type": "execute_result"
    }
   ],
   "source": [
    "pages[2].images"
   ]
  },
  {
   "cell_type": "code",
   "execution_count": 6,
   "id": "003eb945-2c88-4566-8408-fa27a6b1451a",
   "metadata": {
    "tags": []
   },
   "outputs": [
    {
     "data": {
      "image/png": "[encoded data removed]",
      "text/plain": [
       "<pdfplumber.display.PageImage at 0x267bcd77a90>"
      ]
     },
     "execution_count": 6,
     "metadata": {},
     "output_type": "execute_result"
    }
   ],
   "source": [
    "img = pages[2].images[0]\n",
    "bbox = (img[\"x0\"], img[\"top\"], img[\"x1\"], img[\"bottom\"])\n",
    "cropped_page = pages[2].crop(bbox)\n",
    "cropped_page.to_image()"
   ]
  },
  {
   "cell_type": "code",
   "execution_count": null,
   "id": "9d4bbda2-ecba-4d7c-8add-af625c9ec19e",
   "metadata": {},
   "outputs": [],
   "source": []
  }
 ],
 "metadata": {
  "kernelspec": {
   "display_name": "Python 3 (ipykernel)",
   "language": "python",
   "name": "python3"
  },
  "language_info": {
   "codemirror_mode": {
    "name": "ipython",
    "version": 3
   },
   "file_extension": ".py",
   "mimetype": "text/x-python",
   "name": "python",
   "nbconvert_exporter": "python",
   "pygments_lexer": "ipython3",
   "version": "3.11.5"
  }
 },
 "nbformat": 4,
 "nbformat_minor": 5
}
